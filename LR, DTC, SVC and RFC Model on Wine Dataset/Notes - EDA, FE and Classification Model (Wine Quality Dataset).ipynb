{
 "cells": [
  {
   "cell_type": "markdown",
   "id": "4c21cab5",
   "metadata": {},
   "source": [
    "# <span style=\"color:green\"> Notes: EDA, FE and Classification Model (Wine Quality Dataset) </span>"
   ]
  },
  {
   "cell_type": "markdown",
   "id": "1d0dd528",
   "metadata": {},
   "source": [
    "# <span style=\"color:blue\"> 1. EDA and FE </span>\n",
    "\n",
    "1.Data Profiling\n",
    "\n",
    "2.Stastical analysis\n",
    "\n",
    "3.Graphical Analysis\n",
    "\n",
    "4.Data Cleaning\n",
    "\n",
    "5.Data Scaling"
   ]
  },
  {
   "cell_type": "markdown",
   "id": "2b705243",
   "metadata": {},
   "source": [
    "# <span style=\"color:blue\"> 2. Decision Tree Classifier Model </span>\n",
    "\n",
    "1.Decision Tree Classifier Model \n",
    "\n",
    "2.Performance metrics for above model\n",
    "\n",
    "3.Decision Tree Visualization\n",
    "\n",
    "4.Hyper-Parameter Tuning for above model"
   ]
  },
  {
   "cell_type": "markdown",
   "id": "84270a8e",
   "metadata": {},
   "source": [
    "# <span style=\"color:blue\"> 3. Logistic Regression Model </span>\n",
    "\n",
    "1.Linear Regression Model\n",
    "\n",
    "2.Performance metrics for above model\n",
    "\n",
    "3.Hyper-Parameter Tuning for above model"
   ]
  },
  {
   "cell_type": "markdown",
   "id": "990778b1",
   "metadata": {},
   "source": [
    "# <span style=\"color:blue\"> 4. Support Vector Classifier Model </span>\n",
    "\n",
    "1.Support Vector Classifier Model\n",
    "\n",
    "2.Performance metrics for above model\n",
    "\n",
    "3.Hyper-Parameter Tuning for above model"
   ]
  },
  {
   "cell_type": "markdown",
   "id": "8eb259fd",
   "metadata": {},
   "source": [
    "# <span style=\"color:blue\"> 5. Random Forest Classifier Model </span>\n",
    "\n",
    "1.Random Forest Classifier Model\n",
    "\n",
    "2.Performance metrics for above model\n",
    "\n",
    "3.Hyper-Parameter Tuning for above model"
   ]
  },
  {
   "cell_type": "markdown",
   "id": "79c22419",
   "metadata": {},
   "source": [
    "Dataset: https://raw.githubusercontent.com/shrikant-temburwar/Wine-Quality-Dataset/master/winequality-red.csv"
   ]
  },
  {
   "cell_type": "markdown",
   "id": "aad57f50",
   "metadata": {},
   "source": [
    "# <span style=\"color:Red\"> Decision Tree Classifier Model </span>\n",
    "\n",
    "1. Decision tree(is like a flowchart) is a type of supervised learning algorithm that can be used for both regression and classification problems. \n",
    "The algorithm uses training data to create rules that can be represented by a tree structure.\n",
    "\n",
    "2.Like any other tree representation, it has a root node, internal nodes, and leaf nodes. \n",
    "The internal node represents condition on attributes, the branches represent the results of the condition and the leaf node represents the class label.\n",
    "\n",
    "3.To arrive at the classification, you start at the root node at the top and work your way down to the leaf node by following the if-else style rules. \n",
    "The leaf node where you land up is your class label for your classification problem.\n",
    "\n",
    "4.Decision tree can work with both categorical and numerical data. \n",
    "This is in contrast with other machine learning algorithms that cannot work with categorical data and requires encoding to numeric values.\n",
    "\n",
    "\n",
    "<span style=\"color:blue\"> Making of Decision Tree: </span>\n",
    "\n",
    "For making a decision tree, at each level we have to make a selection of the attributes to be the root node. This is known as attributes selection. This is mainly done using :\n",
    "\n",
    "1.Gini index.\n",
    "\n",
    "2.Information gain.\n",
    "\n",
    "3.chi-square.\n",
    "\n",
    "How decision trees are created is going to be covered in a later article, because here we are more focused on the implementation of the decision tree in the Sklearn library of Python.\n",
    "\n",
    "<span style=\"color:blue\"> Advantages of Decision Tree: </span>\n",
    "\n",
    "There are some advantages of using a decision tree as listed below –\n",
    "\n",
    "1.The decision tree is a white-box model. We can easily understand any particular condition of the model which results in either true or false.\n",
    "It can handle both continuous and categorical data.\n",
    "\n",
    "<span style=\"color:blue\"> Disadvantages of Decision Tree: </span>\n",
    "    \n",
    "Some of the disadvantages of the decision tree are listed below –\n",
    "\n",
    "1.Decision trees may become very large and complex with a large number of attributes.\n",
    "\n",
    "2.A decision tree at times can be sensitive to the training data, a very small variation in data can lead to a completely different tree structure.\n",
    "\n",
    "\n",
    "<span style=\"color:blue\"> Applications of Decision Tree: </span>\n",
    "    \n",
    "Some of the real-world and practical applications of decision tree are –\n",
    "\n",
    "1.Loan Application Approval\n",
    "\n",
    "2.Prediction of Customer Churn\n",
    "\n",
    "3.Fraud Detection\n",
    "\n",
    "4.Medical Diagnosis\n",
    " "
   ]
  },
  {
   "cell_type": "markdown",
   "id": "ba689021",
   "metadata": {},
   "source": [
    "# <span style=\"color:red\"> Logistic Regression model </span>\n",
    "\n",
    "1.Logistic regression aims to solve classification problems. \n",
    "\n",
    "2.It does this by predicting categorical outcomes, unlike linear regression that predicts a continuous outcome.\n",
    "\n",
    "3.In the simplest case there are two outcomes, which is called binomial, an example of which is predicting if a tumor is malignant or benign. \n",
    "\n",
    "4.Other cases have more than two outcomes to classify, in this case it is called multinomial. \n",
    "\n",
    "5.A common example for multinomial logistic regression would be predicting the class of an iris flower between 3 different species.\n",
    "\n",
    "6.Here we will be using basic logistic regression to predict a binomial variable. This means it has only two possible outcomes.\n",
    "\n",
    "7. F(x) = 1 / (1 + e-x) : sigmoid function - s shaped graph"
   ]
  },
  {
   "cell_type": "markdown",
   "id": "1fbf0dbb",
   "metadata": {},
   "source": [
    "# <span style=\"color:red\"> Support Vector Machine model </span>\n",
    "\n",
    "1.Support Vector Machine or SVM is one of the most popular Supervised Learning algorithms, which is used for Classification , Regression and outlier detection problems.\n",
    "However, primarily, it is used for Classification problems in Machine Learning.\n",
    "\n",
    "2.The goal of the SVM algorithm is to create the best line or decision boundary that can segregate n-dimensional space into classes so that we can easily put the new data point in the correct category in the future. \n",
    "This best decision boundary is called a hyperplane.\n",
    "\n",
    "3.SVM chooses the extreme points/vectors that help in creating the hyperplane. \n",
    "These extreme cases are called as support vectors, and hence algorithm is termed as Support Vector Machine. \n",
    "\n",
    "Consider the below diagram in which there are two different categories that are classified using a decision boundary or hyperplane:"
   ]
  },
  {
   "cell_type": "code",
   "execution_count": 6,
   "id": "57f27d7a",
   "metadata": {},
   "outputs": [
    {
     "data": {
      "image/png": "[encoded data removed]",
      "text/plain": [
       "<IPython.core.display.Image object>"
      ]
     },
     "execution_count": 6,
     "metadata": {},
     "output_type": "execute_result"
    }
   ],
   "source": [
    "from IPython import display\n",
    "display.Image(\"desktop\\support-vector-machine-algorithm.png\")"
   ]
  },
  {
   "cell_type": "markdown",
   "id": "b28333db",
   "metadata": {},
   "source": [
    "4. Example: SVM can be understood with the example that we have used in the KNN classifier. \n",
    "\n",
    "Suppose we see a strange cat that also has some features of dogs, so if we want a model that can accurately identify whether it is a cat or dog, so such a model can be created by using the SVM algorithm. We will first train our model with lots of images of cats and dogs so that it can learn about different features of cats and dogs, and then we test it with this strange creature. So as support vector creates a decision boundary between these two data (cat and dog) and choose extreme cases (support vectors), it will see the extreme case of cat and dog. On the basis of the support vectors, it will classify it as a cat. Consider the below diagram:"
   ]
  },
  {
   "cell_type": "code",
   "execution_count": 10,
   "id": "7ead68e4",
   "metadata": {},
   "outputs": [
    {
     "data": {
      "image/png": "[encoded data removed]",
      "text/plain": [
       "<IPython.core.display.Image object>"
      ]
     },
     "execution_count": 10,
     "metadata": {},
     "output_type": "execute_result"
    }
   ],
   "source": [
    "from IPython import display\n",
    "display.Image(\"desktop\\support-vector-machine-algorithm2.png\")         "
   ]
  },
  {
   "cell_type": "markdown",
   "id": "500d557a",
   "metadata": {},
   "source": [
    "SVM algorithm can be used for Face detection, image classification, text categorization, etc."
   ]
  },
  {
   "cell_type": "markdown",
   "id": "687e9894",
   "metadata": {},
   "source": [
    "# <span style=\"color:blue\"> Types of SVM: </span>\n",
    "\n",
    "<span style=\"color:blue\"> SVM can be of two types:  </span>\n",
    "\n",
    "<span style=\"color:blue\"> Linear SVM  </span>: Linear SVM is used for linearly separable data, which means if a dataset can be classified into two classes by using a single straight line, then such data is termed as linearly separable data, and classifier is used called as Linear SVM classifier.\n",
    "\n",
    "<span style=\"color:blue\"> Non-linear SVM  </span>: Non-Linear SVM is used for non-linearly separated data, which means if a dataset cannot be classified by using a straight line, then such data is termed as non-linear data and classifier used is called as Non-linear SVM classifier.\n",
    "\n",
    "<span style=\"color:blue\"> Hyperplane and Support Vectors in the SVM algorithm:  </span>\n",
    "\n",
    "<span style=\"color:blue\"> Hyperplane </span>: There can be multiple lines/decision boundaries to segregate the classes in n-dimensional space, but we need to find out the best decision boundary that helps to classify the data points. This best boundary is known as the hyperplane of SVM.\n",
    "\n",
    "The dimensions of the hyperplane depend on the features present in the dataset, which means if there are 2 features (as shown in image), then hyperplane will be a straight line. And if there are 3 features, then hyperplane will be a 2-dimension plane.\n",
    "\n",
    "We always create a hyperplane that has a maximum margin, which means the maximum distance between the data points.\n",
    "\n",
    "<span style=\"color:blue\"> Support Vectors: </span>\n",
    "\n",
    "The data points or vectors that are the closest to the hyperplane and which affect the position of the hyperplane are termed as Support Vector. Since these vectors support the hyperplane, hence called a Support vector."
   ]
  },
  {
   "cell_type": "markdown",
   "id": "01fdef59",
   "metadata": {},
   "source": [
    "# <span style=\"color:blue\"> Linear SVM </span> \n",
    "The working of the SVM algorithm can be understood by using an example. Suppose we have a dataset that has two tags (green and blue), and the dataset has two features x1 and x2. We want a classifier that can classify the pair(x1, x2) of coordinates in either green or blue. Consider the below image:"
   ]
  },
  {
   "cell_type": "code",
   "execution_count": 15,
   "id": "f4fe4e5b",
   "metadata": {},
   "outputs": [
    {
     "data": {
      "image/png": "[encoded data removed]",
      "text/plain": [
       "<IPython.core.display.Image object>"
      ]
     },
     "execution_count": 15,
     "metadata": {},
     "output_type": "execute_result"
    }
   ],
   "source": [
    "from IPython import display\n",
    "display.Image(\"desktop\\support-vector-machine-algorithm3.png\")"
   ]
  },
  {
   "cell_type": "markdown",
   "id": "5f7d3fc9",
   "metadata": {},
   "source": [
    "So as it is 2-d space so by just using a straight line, we can easily separate these two classes. But there can be multiple lines that can separate these classes. Consider the below image:"
   ]
  },
  {
   "cell_type": "markdown",
   "id": "1b24a3c0",
   "metadata": {},
   "source": [
    "Hence, the SVM algorithm helps to find the best line or decision boundary; this best boundary or region is called as a hyperplane. SVM algorithm finds the closest point of the lines from both the classes. These points are called support vectors. The distance between the vectors and the hyperplane is called as margin. And the goal of SVM is to maximize this margin. The hyperplane with maximum margin is called the optimal hyperplane."
   ]
  },
  {
   "cell_type": "code",
   "execution_count": 16,
   "id": "de45e812",
   "metadata": {},
   "outputs": [
    {
     "data": {
      "image/png": "[encoded data removed]",
      "text/plain": [
       "<IPython.core.display.Image object>"
      ]
     },
     "execution_count": 16,
     "metadata": {},
     "output_type": "execute_result"
    }
   ],
   "source": [
    "from IPython import display\n",
    "display.Image(\"desktop\\support-vector-machine-algorithm4.png\")"
   ]
  },
  {
   "cell_type": "markdown",
   "id": "6f5d764e",
   "metadata": {},
   "source": [
    "Hence, the SVM algorithm helps to find the best line or decision boundary; this best boundary or region is called as a hyperplane. SVM algorithm finds the closest point of the lines from both the classes. These points are called support vectors. The distance between the vectors and the hyperplane is called as margin. And the goal of SVM is to maximize this margin. The hyperplane with maximum margin is called the optimal hyperplane."
   ]
  },
  {
   "cell_type": "code",
   "execution_count": 18,
   "id": "53475926",
   "metadata": {},
   "outputs": [
    {
     "data": {
      "image/png": "[encoded data removed]",
      "text/plain": [
       "<IPython.core.display.Image object>"
      ]
     },
     "execution_count": 18,
     "metadata": {},
     "output_type": "execute_result"
    }
   ],
   "source": [
    "from IPython import display\n",
    "display.Image(\"desktop\\support-vector-machine-algorithm5.png\")"
   ]
  },
  {
   "cell_type": "markdown",
   "id": "0a393d24",
   "metadata": {},
   "source": [
    "# <span style=\"color:blue\"> Non-Linear SVM: </span>\n",
    "\n",
    "If data is linearly arranged, then we can separate it by using a straight line, but for non-linear data, we cannot draw a single straight line. Consider the below image:"
   ]
  },
  {
   "cell_type": "code",
   "execution_count": 20,
   "id": "6e76d5d4",
   "metadata": {},
   "outputs": [
    {
     "data": {
      "image/png": "[encoded data removed]",
      "text/plain": [
       "<IPython.core.display.Image object>"
      ]
     },
     "execution_count": 20,
     "metadata": {},
     "output_type": "execute_result"
    }
   ],
   "source": [
    "from IPython import display\n",
    "display.Image(\"desktop\\support-vector-machine-algorithm6.png\")"
   ]
  },
  {
   "cell_type": "markdown",
   "id": "4954926f",
   "metadata": {},
   "source": [
    "So to separate these data points, we need to add one more dimension. \n",
    "For linear data, we have used two dimensions x and y, so for non-linear data, we will add a third dimension z. \n",
    "It can be calculated as:"
   ]
  },
  {
   "cell_type": "markdown",
   "id": "a68cdb34",
   "metadata": {},
   "source": [
    "z=x2 +y2\n",
    "\n",
    "By adding the third dimension, the sample space will become as below image:"
   ]
  },
  {
   "cell_type": "code",
   "execution_count": 22,
   "id": "a458587a",
   "metadata": {},
   "outputs": [
    {
     "data": {
      "image/png": "[encoded data removed]",
      "text/plain": [
       "<IPython.core.display.Image object>"
      ]
     },
     "execution_count": 22,
     "metadata": {},
     "output_type": "execute_result"
    }
   ],
   "source": [
    "from IPython import display\n",
    "display.Image(\"desktop\\support-vector-machine-algorithm7.png\")"
   ]
  },
  {
   "cell_type": "markdown",
   "id": "155269fd",
   "metadata": {},
   "source": [
    "So now, SVM will divide the datasets into classes in the following way. Consider the below image:"
   ]
  },
  {
   "cell_type": "code",
   "execution_count": 23,
   "id": "1dc90f2c",
   "metadata": {},
   "outputs": [
    {
     "data": {
      "image/png": "[encoded data removed]",
      "text/plain": [
       "<IPython.core.display.Image object>"
      ]
     },
     "execution_count": 23,
     "metadata": {},
     "output_type": "execute_result"
    }
   ],
   "source": [
    "from IPython import display\n",
    "display.Image(\"desktop\\support-vector-machine-algorithm8.png\")"
   ]
  },
  {
   "cell_type": "markdown",
   "id": "f36b892c",
   "metadata": {},
   "source": [
    "Since we are in 3-d Space, hence it is looking like a plane parallel to the x-axis. If we convert it in 2d space with z=1, then it will become as:"
   ]
  },
  {
   "cell_type": "code",
   "execution_count": 24,
   "id": "d6add974",
   "metadata": {},
   "outputs": [
    {
     "data": {
      "image/png": "[encoded data removed]",
      "text/plain": [
       "<IPython.core.display.Image object>"
      ]
     },
     "execution_count": 24,
     "metadata": {},
     "output_type": "execute_result"
    }
   ],
   "source": [
    "from IPython import display\n",
    "display.Image(\"desktop\\support-vector-machine-algorithm9.png\")"
   ]
  },
  {
   "cell_type": "markdown",
   "id": "e7f6f064",
   "metadata": {},
   "source": [
    "Hence we get a circumference of radius 1 in case of non-linear data."
   ]
  },
  {
   "cell_type": "markdown",
   "id": "62956010",
   "metadata": {},
   "source": [
    "<span style=\"color:blue\"> The advantages of support vector machines are: </span>\n",
    "\n",
    "1. Effective in high dimensional spaces.\n",
    "\n",
    "2. Still effective in cases where number of dimensions is greater than the number of samples.\n",
    "\n",
    "3. Uses a subset of training points in the decision function (called support vectors), so it is also memory efficient.\n",
    "\n",
    "<span style=\"color:blue\"> Versatile: </span> different Kernel functions can be specified for the decision function. Common kernels are provided, but it is also possible to specify custom kernels.\n",
    "\n",
    "<span style=\"color:blue\"> The disadvantages of support vector machines include: </span> \n",
    "\n",
    "1.If the number of features is much greater than the number of samples, avoid over-fitting in choosing Kernel functions and regularization term is crucial.\n",
    "\n",
    "2.SVMs do not directly provide probability estimates, these are calculated using an expensive five-fold cross-validation (see Scores and probabilities, below)."
   ]
  },
  {
   "cell_type": "markdown",
   "id": "d49b27af",
   "metadata": {},
   "source": [
    "# <span style=\"color:red\"> 5. Random Forest Classifier Model </span>"
   ]
  },
  {
   "cell_type": "markdown",
   "id": "75fe1ca3",
   "metadata": {},
   "source": [
    "Random forest is a supervised learning technique for classification and regression algorithms in machine learning. It's a classifier that combines a number of decision trees on different subsets of a dataset and averages the results to increase the dataset's predicted accuracy.\n",
    "\n",
    "It creates a \"forest\" out of an ensemble of decision trees, which are commonly trained using the \"bagging\" approach. The bagging method's basic premise is that combining several learning models improves the final output. \n",
    "\n",
    "Instead of depending on a single decision tree, the random forest collects the forecasts from each tree and predicts the final output based on the majority votes of predictions. \n",
    "\n"
   ]
  },
  {
   "cell_type": "markdown",
   "id": "18b6eca2",
   "metadata": {},
   "source": [
    "<span style=\"color:blue\"> Classification in Random Forest: </span>\n",
    " \n",
    "1.Random forest classification uses an ensemble technique to get the desired result. Various decision trees are trained using the training data. This dataset contains observations and characteristics that will be chosen at random when nodes are divided. Various decision trees are used in a rain forest system. \n",
    "\n",
    "2.There are three types of nodes in a decision tree: leaf nodes,branch node and root nodes.\n",
    "\n",
    "3.Each tree's leaf node represents the ultimate result produced by that particular decision tree. The final product is chosen using a majority-voting procedure. In this situation, the ultimate output of the rain forest system is the output chosen by the majority of decision trees.\n",
    "\n",
    "Ensemble technique : Ensemble methods are techniques that aim at improving the accuracy of results in models by combining multiple models instead of using a single model. The combined models increase the accuracy of the results significantly. This has boosted the popularity of ensemble methods in machine learning."
   ]
  },
  {
   "cell_type": "markdown",
   "id": "7b49accd",
   "metadata": {},
   "source": [
    "# <span style=\"color:blue\"> Working of Random Forest Classifiers: </span>\n",
    " \n",
    "We must first learn about the ensemble approach before we can comprehend how the random forest works. Ensemble simply refers to the process of merging numerous models. As a result, rather than using a single model to generate predictions, a collection of models is employed. \n",
    "\n",
    "Ensemble approaches are divided into two categories:\n",
    "\n",
    "Bagging– It produces a distinct training subset with replacement from sample training data, and the final output is based on a majority vote. \n",
    "Take, for instance, Random Forest.\n",
    "\n",
    "Boosting– It turns weak students into good students by generating sequential models with the maximum accuracy possible. \n",
    "For instance, ADA BOOST and XG BOOST\n",
    "\n",
    "The random forest method has the following steps:\n",
    "\n",
    "Step 1: In a Random forest, n random records are chosen at random from a data collection of k records.\n",
    "\n",
    "Step 2: For each sample, individual decision trees are built.\n",
    "\n",
    "Step 3: Each decision tree produces a result.\n",
    "\n",
    "Step 4: For classification and regression, the final output is based on Majority Voting or Averaging, accordingly."
   ]
  },
  {
   "cell_type": "markdown",
   "id": "cd91803f",
   "metadata": {},
   "source": [
    "<span style=\"color:blue\"> Regression in random forests:</span>\n",
    " \n",
    "The other duty that a random forest algorithm does is regression. The principle of simple regression is followed by a random forest regression. In the random forest model, the values of dependent (features) and independent variables are transmitted. Random forest regressions may be performed in a variety of systems, including SAS, R, and Python. \n",
    "\n",
    "Each tree in a random forest regression makes a unique prediction. The regression's result is the average forecast of the individual trees. This is in contrast to random forest classification, which determines the output based on the decision trees' class mode.\n",
    "\n",
    "Although the concepts of random forest regression and linear regression are similar, their purposes differ. y=bx + c is the formula for linear regression, where y is the dependent variable, x is the independent variable, b is the estimated parameter, and c is a constant. A sophisticated random forest regression's function is similar to that of a black box."
   ]
  },
  {
   "cell_type": "markdown",
   "id": "4c975e92",
   "metadata": {},
   "source": [
    "# <span style=\"color:blue\"> Advantages and Disadvantages of Random Forest Classifier: </span>\n",
    " \n",
    "<span style=\"color:green\"> There are several advantages of Random Forest classifiers, let us learn about a few: </span>\n",
    "\n",
    "1.It may be used to solve problems involving classification and regression.\n",
    "\n",
    "2.It eliminates overfitting because the result is based on a majority vote or average.\n",
    "\n",
    "3.It works well even when there are null or missing values in the data.\n",
    "\n",
    "4.Each decision tree formed is independent of the others, demonstrating the parallelization characteristic.\n",
    "\n",
    "5.Because the average answers from a vast number of trees are used, it is extremely stable.\n",
    "\n",
    "6.It preserves diversity since all traits are not taken into account while creating each decision tree, albeit this is not always the case.\n",
    "\n",
    "7.It is unaffected by the dimensionality curse. The feature space is minimized since each tree does not evaluate all of the properties.\n",
    "\n",
    "8.We don't need to separate data into train and test since there will always be 30% of the data that the bootstrap decision tree will miss.\n",
    "\n",
    " \n",
    "<span style=\"color:green\"> But, like advantages, there are a few disadvantages of this algorithm as well. Some of them are: </span>\n",
    "\n",
    "1.When employing a random forest, additional computing resources are required.\n",
    "\n",
    "2.When compared to a decision tree algorithm, it takes longer.\n",
    "\n",
    "<span style=\"color:green\"> Bootstrapping:</span>\n",
    "\n",
    "Particularly useful for assessing the quality of a machine learning model, bootstrapping is a method of inferring results for a population from results found on a collection of smaller random samples of the population, using replacement during the sampling process."
   ]
  },
  {
   "cell_type": "markdown",
   "id": "95fac638",
   "metadata": {},
   "source": [
    "# <span style=\"color:blue\"> Use cases of Random Forest classifier algorithm: </span>\n",
    " \n",
    "<span style=\"color:blue\"> Banking: </span>\n",
    " \n",
    "In banking, a random forest is used to estimate a loan applicant's creditworthiness. This assists the lending organization in making an informed judgment about whether or not to grant the loan to the consumer. The random forest technique is often used by banks to detect fraudsters.\n",
    "\n",
    "<span style=\"color:blue\"> Health-care services: </span>\n",
    " \n",
    "Random forest algorithms are used by doctors to diagnose patients. Patients are diagnosed by looking at their past medical records. Previous medical data are examined to determine the proper dose for the patients.\n",
    "\n",
    "<span style=\"color:blue\"> The stock exchange: </span>\n",
    " \n",
    "It is used by financial experts to discover prospective stock markets. It also helps them to recognize the stock activity.\n",
    "\n",
    " \n",
    "<span style=\"color:blue\"> E-commerce </span>\n",
    " \n",
    "E-commerce platforms may forecast client preferences based on prior consumption behaviour using rain forest algorithms.\n",
    "\n",
    "<span style=\"color:blue\"> Conclusion </span>\n",
    " \n",
    "One of the nicest aspects of random forest is that it can accept missing variables, so it's a perfect choice for anyone who wants to create a model quickly and effectively. "
   ]
  },
  {
   "cell_type": "code",
   "execution_count": null,
   "id": "dbda7c0a",
   "metadata": {},
   "outputs": [],
   "source": []
  }
 ],
 "metadata": {
  "kernelspec": {
   "display_name": "Python 3 (ipykernel)",
   "language": "python",
   "name": "python3"
  },
  "language_info": {
   "codemirror_mode": {
    "name": "ipython",
    "version": 3
   },
   "file_extension": ".py",
   "mimetype": "text/x-python",
   "name": "python",
   "nbconvert_exporter": "python",
   "pygments_lexer": "ipython3",
   "version": "3.9.12"
  }
 },
 "nbformat": 4,
 "nbformat_minor": 5
}
