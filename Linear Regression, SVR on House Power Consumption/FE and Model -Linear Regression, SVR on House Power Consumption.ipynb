{
 "cells": [
  {
   "cell_type": "markdown",
   "id": "fa38038f",
   "metadata": {},
   "source": [
    "# <span style='color:green'> Linear Regression, SVR on House Power Consumption/FE and Model </span>"
   ]
  },
  {
   "cell_type": "markdown",
   "id": "e9bcb240",
   "metadata": {},
   "source": [
    "# <span style='color:red'> 1.0 Importing required libraries </span>"
   ]
  },
  {
   "cell_type": "code",
   "execution_count": 1,
   "id": "205427c4",
   "metadata": {},
   "outputs": [],
   "source": [
    "### Pandas and Numpy\n",
    "import pandas as pd\n",
    "import numpy as np\n",
    "\n",
    "### MongoDB Library\n",
    "import pymongo\n",
    "\n",
    "### To ignore warnings\n",
    "import warnings\n",
    "warnings.filterwarnings('ignore')\n",
    "\n",
    "### Machine Learning librarie\n",
    "import sklearn\n",
    "from sklearn.model_selection import train_test_split\n",
    "from sklearn.preprocessing import StandardScaler\n",
    "from sklearn.linear_model import LinearRegression,Lasso,Ridge,ElasticNet\n",
    "from sklearn.svm import SVR\n",
    "from sklearn.metrics import r2_score"
   ]
  },
  {
   "cell_type": "markdown",
   "id": "2e74a9f3",
   "metadata": {},
   "source": [
    "# <span style='color:red'> 2.4 Uploading Data to MongoDB  </span>"
   ]
  },
  {
   "cell_type": "code",
   "execution_count": 2,
   "id": "46b915cf",
   "metadata": {},
   "outputs": [
    {
     "data": {
      "text/html": [
       "<div>\n",
       "<style scoped>\n",
       "    .dataframe tbody tr th:only-of-type {\n",
       "        vertical-align: middle;\n",
       "    }\n",
       "\n",
       "    .dataframe tbody tr th {\n",
       "        vertical-align: top;\n",
       "    }\n",
       "\n",
       "    .dataframe thead th {\n",
       "        text-align: right;\n",
       "    }\n",
       "</style>\n",
       "<table border=\"1\" class=\"dataframe\">\n",
       "  <thead>\n",
       "    <tr style=\"text-align: right;\">\n",
       "      <th></th>\n",
       "      <th>Global_active_power</th>\n",
       "      <th>Global_reactive_power</th>\n",
       "      <th>Voltage</th>\n",
       "      <th>Global_intensity</th>\n",
       "      <th>Sub_metering_1</th>\n",
       "      <th>Sub_metering_2</th>\n",
       "      <th>Sub_metering_3</th>\n",
       "      <th>day</th>\n",
       "      <th>month</th>\n",
       "      <th>Total_power_use</th>\n",
       "    </tr>\n",
       "  </thead>\n",
       "  <tbody>\n",
       "    <tr>\n",
       "      <th>0</th>\n",
       "      <td>0.284</td>\n",
       "      <td>0.000</td>\n",
       "      <td>240.03</td>\n",
       "      <td>1.2</td>\n",
       "      <td>0</td>\n",
       "      <td>0</td>\n",
       "      <td>0</td>\n",
       "      <td>1</td>\n",
       "      <td>9</td>\n",
       "      <td>0</td>\n",
       "    </tr>\n",
       "    <tr>\n",
       "      <th>1</th>\n",
       "      <td>0.488</td>\n",
       "      <td>0.194</td>\n",
       "      <td>242.18</td>\n",
       "      <td>2.2</td>\n",
       "      <td>0</td>\n",
       "      <td>1</td>\n",
       "      <td>1</td>\n",
       "      <td>18</td>\n",
       "      <td>10</td>\n",
       "      <td>2</td>\n",
       "    </tr>\n",
       "    <tr>\n",
       "      <th>2</th>\n",
       "      <td>0.350</td>\n",
       "      <td>0.098</td>\n",
       "      <td>243.71</td>\n",
       "      <td>1.4</td>\n",
       "      <td>0</td>\n",
       "      <td>0</td>\n",
       "      <td>0</td>\n",
       "      <td>27</td>\n",
       "      <td>4</td>\n",
       "      <td>0</td>\n",
       "    </tr>\n",
       "    <tr>\n",
       "      <th>3</th>\n",
       "      <td>0.464</td>\n",
       "      <td>0.000</td>\n",
       "      <td>237.06</td>\n",
       "      <td>2.0</td>\n",
       "      <td>0</td>\n",
       "      <td>1</td>\n",
       "      <td>0</td>\n",
       "      <td>25</td>\n",
       "      <td>5</td>\n",
       "      <td>1</td>\n",
       "    </tr>\n",
       "    <tr>\n",
       "      <th>4</th>\n",
       "      <td>0.430</td>\n",
       "      <td>0.248</td>\n",
       "      <td>244.67</td>\n",
       "      <td>2.0</td>\n",
       "      <td>0</td>\n",
       "      <td>1</td>\n",
       "      <td>1</td>\n",
       "      <td>20</td>\n",
       "      <td>1</td>\n",
       "      <td>2</td>\n",
       "    </tr>\n",
       "  </tbody>\n",
       "</table>\n",
       "</div>"
      ],
      "text/plain": [
       "   Global_active_power  Global_reactive_power  Voltage  Global_intensity  \\\n",
       "0                0.284                  0.000   240.03               1.2   \n",
       "1                0.488                  0.194   242.18               2.2   \n",
       "2                0.350                  0.098   243.71               1.4   \n",
       "3                0.464                  0.000   237.06               2.0   \n",
       "4                0.430                  0.248   244.67               2.0   \n",
       "\n",
       "   Sub_metering_1  Sub_metering_2  Sub_metering_3  day  month  Total_power_use  \n",
       "0               0               0               0    1      9                0  \n",
       "1               0               1               1   18     10                2  \n",
       "2               0               0               0   27      4                0  \n",
       "3               0               1               0   25      5                1  \n",
       "4               0               1               1   20      1                2  "
      ]
     },
     "execution_count": 2,
     "metadata": {},
     "output_type": "execute_result"
    }
   ],
   "source": [
    "data_sample = pd.read_csv('Desktop/Datasets/household_power_consumption_cleaned.csv')\n",
    "data_sample.head()"
   ]
  },
  {
   "cell_type": "code",
   "execution_count": 3,
   "id": "2172bd1c",
   "metadata": {},
   "outputs": [
    {
     "data": {
      "text/plain": [
       "(48412, 10)"
      ]
     },
     "execution_count": 3,
     "metadata": {},
     "output_type": "execute_result"
    }
   ],
   "source": [
    "data_sample.shape"
   ]
  },
  {
   "cell_type": "code",
   "execution_count": 4,
   "id": "b1539e29",
   "metadata": {},
   "outputs": [],
   "source": [
    "### creating connection with MongoDB\n",
    "import pymongo\n",
    "from pymongo import MongoClient"
   ]
  },
  {
   "cell_type": "code",
   "execution_count": 5,
   "id": "6ffaaac6",
   "metadata": {},
   "outputs": [],
   "source": [
    "Client = MongoClient('Localhost',27017)"
   ]
  },
  {
   "cell_type": "code",
   "execution_count": 6,
   "id": "32537f4c",
   "metadata": {},
   "outputs": [],
   "source": [
    "db=Client['Power_consumption1']\n",
    "collection=db['Household_power_data1']"
   ]
  },
  {
   "cell_type": "code",
   "execution_count": 7,
   "id": "41c30f26",
   "metadata": {},
   "outputs": [],
   "source": [
    "data_dict = data_sample.to_dict(\"records\")"
   ]
  },
  {
   "cell_type": "code",
   "execution_count": 8,
   "id": "c74e5624",
   "metadata": {},
   "outputs": [
    {
     "data": {
      "text/plain": [
       "<pymongo.results.InsertManyResult at 0x1f3798066a0>"
      ]
     },
     "execution_count": 8,
     "metadata": {},
     "output_type": "execute_result"
    }
   ],
   "source": [
    "collection.insert_many(data_dict)"
   ]
  },
  {
   "cell_type": "markdown",
   "id": "92585fea",
   "metadata": {},
   "source": [
    "# <span style='color:red'> 2.0 Retrieving data from MongoDB </span>"
   ]
  },
  {
   "cell_type": "code",
   "execution_count": 9,
   "id": "7a74bc5b",
   "metadata": {},
   "outputs": [],
   "source": [
    "### Locating our collection and data in MongoDb using find() method\n",
    "data_from_pymongodb = collection.find()"
   ]
  },
  {
   "cell_type": "code",
   "execution_count": 10,
   "id": "c37c6111",
   "metadata": {},
   "outputs": [],
   "source": [
    "### converting data from MongoDb to Dataframe in pandas\n",
    "data_pymongodb = pd.DataFrame(data_from_pymongodb)"
   ]
  },
  {
   "cell_type": "code",
   "execution_count": 11,
   "id": "e4487603",
   "metadata": {},
   "outputs": [
    {
     "data": {
      "text/html": [
       "<div>\n",
       "<style scoped>\n",
       "    .dataframe tbody tr th:only-of-type {\n",
       "        vertical-align: middle;\n",
       "    }\n",
       "\n",
       "    .dataframe tbody tr th {\n",
       "        vertical-align: top;\n",
       "    }\n",
       "\n",
       "    .dataframe thead th {\n",
       "        text-align: right;\n",
       "    }\n",
       "</style>\n",
       "<table border=\"1\" class=\"dataframe\">\n",
       "  <thead>\n",
       "    <tr style=\"text-align: right;\">\n",
       "      <th></th>\n",
       "      <th>_id</th>\n",
       "      <th>Global_active_power</th>\n",
       "      <th>Global_reactive_power</th>\n",
       "      <th>Voltage</th>\n",
       "      <th>Global_intensity</th>\n",
       "      <th>Sub_metering_1</th>\n",
       "      <th>Sub_metering_2</th>\n",
       "      <th>Sub_metering_3</th>\n",
       "      <th>day</th>\n",
       "      <th>month</th>\n",
       "      <th>Total_power_use</th>\n",
       "    </tr>\n",
       "  </thead>\n",
       "  <tbody>\n",
       "    <tr>\n",
       "      <th>0</th>\n",
       "      <td>641ecbbb0fc48164255a4ed8</td>\n",
       "      <td>0.284</td>\n",
       "      <td>0.000</td>\n",
       "      <td>240.03</td>\n",
       "      <td>1.2</td>\n",
       "      <td>0</td>\n",
       "      <td>0</td>\n",
       "      <td>0</td>\n",
       "      <td>1</td>\n",
       "      <td>9</td>\n",
       "      <td>0</td>\n",
       "    </tr>\n",
       "    <tr>\n",
       "      <th>1</th>\n",
       "      <td>641ecbbb0fc48164255a4ed9</td>\n",
       "      <td>0.488</td>\n",
       "      <td>0.194</td>\n",
       "      <td>242.18</td>\n",
       "      <td>2.2</td>\n",
       "      <td>0</td>\n",
       "      <td>1</td>\n",
       "      <td>1</td>\n",
       "      <td>18</td>\n",
       "      <td>10</td>\n",
       "      <td>2</td>\n",
       "    </tr>\n",
       "    <tr>\n",
       "      <th>2</th>\n",
       "      <td>641ecbbb0fc48164255a4eda</td>\n",
       "      <td>0.350</td>\n",
       "      <td>0.098</td>\n",
       "      <td>243.71</td>\n",
       "      <td>1.4</td>\n",
       "      <td>0</td>\n",
       "      <td>0</td>\n",
       "      <td>0</td>\n",
       "      <td>27</td>\n",
       "      <td>4</td>\n",
       "      <td>0</td>\n",
       "    </tr>\n",
       "    <tr>\n",
       "      <th>3</th>\n",
       "      <td>641ecbbb0fc48164255a4edb</td>\n",
       "      <td>0.464</td>\n",
       "      <td>0.000</td>\n",
       "      <td>237.06</td>\n",
       "      <td>2.0</td>\n",
       "      <td>0</td>\n",
       "      <td>1</td>\n",
       "      <td>0</td>\n",
       "      <td>25</td>\n",
       "      <td>5</td>\n",
       "      <td>1</td>\n",
       "    </tr>\n",
       "    <tr>\n",
       "      <th>4</th>\n",
       "      <td>641ecbbb0fc48164255a4edc</td>\n",
       "      <td>0.430</td>\n",
       "      <td>0.248</td>\n",
       "      <td>244.67</td>\n",
       "      <td>2.0</td>\n",
       "      <td>0</td>\n",
       "      <td>1</td>\n",
       "      <td>1</td>\n",
       "      <td>20</td>\n",
       "      <td>1</td>\n",
       "      <td>2</td>\n",
       "    </tr>\n",
       "  </tbody>\n",
       "</table>\n",
       "</div>"
      ],
      "text/plain": [
       "                        _id  Global_active_power  Global_reactive_power  \\\n",
       "0  641ecbbb0fc48164255a4ed8                0.284                  0.000   \n",
       "1  641ecbbb0fc48164255a4ed9                0.488                  0.194   \n",
       "2  641ecbbb0fc48164255a4eda                0.350                  0.098   \n",
       "3  641ecbbb0fc48164255a4edb                0.464                  0.000   \n",
       "4  641ecbbb0fc48164255a4edc                0.430                  0.248   \n",
       "\n",
       "   Voltage  Global_intensity  Sub_metering_1  Sub_metering_2  Sub_metering_3  \\\n",
       "0   240.03               1.2               0               0               0   \n",
       "1   242.18               2.2               0               1               1   \n",
       "2   243.71               1.4               0               0               0   \n",
       "3   237.06               2.0               0               1               0   \n",
       "4   244.67               2.0               0               1               1   \n",
       "\n",
       "   day  month  Total_power_use  \n",
       "0    1      9                0  \n",
       "1   18     10                2  \n",
       "2   27      4                0  \n",
       "3   25      5                1  \n",
       "4   20      1                2  "
      ]
     },
     "execution_count": 11,
     "metadata": {},
     "output_type": "execute_result"
    }
   ],
   "source": [
    "data_pymongodb.head()"
   ]
  },
  {
   "cell_type": "code",
   "execution_count": 13,
   "id": "6688140b",
   "metadata": {},
   "outputs": [],
   "source": [
    "data_pymongodb.drop(['_id'] , axis=1, inplace=True)"
   ]
  },
  {
   "cell_type": "code",
   "execution_count": 14,
   "id": "4a50acff",
   "metadata": {},
   "outputs": [
    {
     "data": {
      "text/html": [
       "<div>\n",
       "<style scoped>\n",
       "    .dataframe tbody tr th:only-of-type {\n",
       "        vertical-align: middle;\n",
       "    }\n",
       "\n",
       "    .dataframe tbody tr th {\n",
       "        vertical-align: top;\n",
       "    }\n",
       "\n",
       "    .dataframe thead th {\n",
       "        text-align: right;\n",
       "    }\n",
       "</style>\n",
       "<table border=\"1\" class=\"dataframe\">\n",
       "  <thead>\n",
       "    <tr style=\"text-align: right;\">\n",
       "      <th></th>\n",
       "      <th>Global_active_power</th>\n",
       "      <th>Global_reactive_power</th>\n",
       "      <th>Voltage</th>\n",
       "      <th>Global_intensity</th>\n",
       "      <th>Sub_metering_1</th>\n",
       "      <th>Sub_metering_2</th>\n",
       "      <th>Sub_metering_3</th>\n",
       "      <th>day</th>\n",
       "      <th>month</th>\n",
       "      <th>Total_power_use</th>\n",
       "    </tr>\n",
       "  </thead>\n",
       "  <tbody>\n",
       "    <tr>\n",
       "      <th>0</th>\n",
       "      <td>0.284</td>\n",
       "      <td>0.000</td>\n",
       "      <td>240.03</td>\n",
       "      <td>1.2</td>\n",
       "      <td>0</td>\n",
       "      <td>0</td>\n",
       "      <td>0</td>\n",
       "      <td>1</td>\n",
       "      <td>9</td>\n",
       "      <td>0</td>\n",
       "    </tr>\n",
       "    <tr>\n",
       "      <th>1</th>\n",
       "      <td>0.488</td>\n",
       "      <td>0.194</td>\n",
       "      <td>242.18</td>\n",
       "      <td>2.2</td>\n",
       "      <td>0</td>\n",
       "      <td>1</td>\n",
       "      <td>1</td>\n",
       "      <td>18</td>\n",
       "      <td>10</td>\n",
       "      <td>2</td>\n",
       "    </tr>\n",
       "    <tr>\n",
       "      <th>2</th>\n",
       "      <td>0.350</td>\n",
       "      <td>0.098</td>\n",
       "      <td>243.71</td>\n",
       "      <td>1.4</td>\n",
       "      <td>0</td>\n",
       "      <td>0</td>\n",
       "      <td>0</td>\n",
       "      <td>27</td>\n",
       "      <td>4</td>\n",
       "      <td>0</td>\n",
       "    </tr>\n",
       "    <tr>\n",
       "      <th>3</th>\n",
       "      <td>0.464</td>\n",
       "      <td>0.000</td>\n",
       "      <td>237.06</td>\n",
       "      <td>2.0</td>\n",
       "      <td>0</td>\n",
       "      <td>1</td>\n",
       "      <td>0</td>\n",
       "      <td>25</td>\n",
       "      <td>5</td>\n",
       "      <td>1</td>\n",
       "    </tr>\n",
       "    <tr>\n",
       "      <th>4</th>\n",
       "      <td>0.430</td>\n",
       "      <td>0.248</td>\n",
       "      <td>244.67</td>\n",
       "      <td>2.0</td>\n",
       "      <td>0</td>\n",
       "      <td>1</td>\n",
       "      <td>1</td>\n",
       "      <td>20</td>\n",
       "      <td>1</td>\n",
       "      <td>2</td>\n",
       "    </tr>\n",
       "  </tbody>\n",
       "</table>\n",
       "</div>"
      ],
      "text/plain": [
       "   Global_active_power  Global_reactive_power  Voltage  Global_intensity  \\\n",
       "0                0.284                  0.000   240.03               1.2   \n",
       "1                0.488                  0.194   242.18               2.2   \n",
       "2                0.350                  0.098   243.71               1.4   \n",
       "3                0.464                  0.000   237.06               2.0   \n",
       "4                0.430                  0.248   244.67               2.0   \n",
       "\n",
       "   Sub_metering_1  Sub_metering_2  Sub_metering_3  day  month  Total_power_use  \n",
       "0               0               0               0    1      9                0  \n",
       "1               0               1               1   18     10                2  \n",
       "2               0               0               0   27      4                0  \n",
       "3               0               1               0   25      5                1  \n",
       "4               0               1               1   20      1                2  "
      ]
     },
     "execution_count": 14,
     "metadata": {},
     "output_type": "execute_result"
    }
   ],
   "source": [
    "data_pymongodb.head()"
   ]
  },
  {
   "cell_type": "markdown",
   "id": "b5fd4430",
   "metadata": {},
   "source": [
    "# <span style='color:red'> 3.0 Model and Evaluation </span>"
   ]
  },
  {
   "cell_type": "markdown",
   "id": "f28cf904",
   "metadata": {},
   "source": [
    "# <span style='color:red'> 3.1 Seperating Independent and Dependent features </span>"
   ]
  },
  {
   "cell_type": "code",
   "execution_count": 15,
   "id": "4f8c9d23",
   "metadata": {},
   "outputs": [],
   "source": [
    "### Splitting data into independent feature dataframe and dependent feature series\n",
    "\n",
    "X= data_pymongodb.iloc[ :,:-1]\n",
    "y= data_pymongodb.iloc[ :,-1]"
   ]
  },
  {
   "cell_type": "code",
   "execution_count": 16,
   "id": "04fef82b",
   "metadata": {},
   "outputs": [
    {
     "data": {
      "text/html": [
       "<div>\n",
       "<style scoped>\n",
       "    .dataframe tbody tr th:only-of-type {\n",
       "        vertical-align: middle;\n",
       "    }\n",
       "\n",
       "    .dataframe tbody tr th {\n",
       "        vertical-align: top;\n",
       "    }\n",
       "\n",
       "    .dataframe thead th {\n",
       "        text-align: right;\n",
       "    }\n",
       "</style>\n",
       "<table border=\"1\" class=\"dataframe\">\n",
       "  <thead>\n",
       "    <tr style=\"text-align: right;\">\n",
       "      <th></th>\n",
       "      <th>Global_active_power</th>\n",
       "      <th>Global_reactive_power</th>\n",
       "      <th>Voltage</th>\n",
       "      <th>Global_intensity</th>\n",
       "      <th>Sub_metering_1</th>\n",
       "      <th>Sub_metering_2</th>\n",
       "      <th>Sub_metering_3</th>\n",
       "      <th>day</th>\n",
       "      <th>month</th>\n",
       "    </tr>\n",
       "  </thead>\n",
       "  <tbody>\n",
       "    <tr>\n",
       "      <th>0</th>\n",
       "      <td>0.284</td>\n",
       "      <td>0.000</td>\n",
       "      <td>240.03</td>\n",
       "      <td>1.2</td>\n",
       "      <td>0</td>\n",
       "      <td>0</td>\n",
       "      <td>0</td>\n",
       "      <td>1</td>\n",
       "      <td>9</td>\n",
       "    </tr>\n",
       "    <tr>\n",
       "      <th>1</th>\n",
       "      <td>0.488</td>\n",
       "      <td>0.194</td>\n",
       "      <td>242.18</td>\n",
       "      <td>2.2</td>\n",
       "      <td>0</td>\n",
       "      <td>1</td>\n",
       "      <td>1</td>\n",
       "      <td>18</td>\n",
       "      <td>10</td>\n",
       "    </tr>\n",
       "    <tr>\n",
       "      <th>2</th>\n",
       "      <td>0.350</td>\n",
       "      <td>0.098</td>\n",
       "      <td>243.71</td>\n",
       "      <td>1.4</td>\n",
       "      <td>0</td>\n",
       "      <td>0</td>\n",
       "      <td>0</td>\n",
       "      <td>27</td>\n",
       "      <td>4</td>\n",
       "    </tr>\n",
       "    <tr>\n",
       "      <th>3</th>\n",
       "      <td>0.464</td>\n",
       "      <td>0.000</td>\n",
       "      <td>237.06</td>\n",
       "      <td>2.0</td>\n",
       "      <td>0</td>\n",
       "      <td>1</td>\n",
       "      <td>0</td>\n",
       "      <td>25</td>\n",
       "      <td>5</td>\n",
       "    </tr>\n",
       "    <tr>\n",
       "      <th>4</th>\n",
       "      <td>0.430</td>\n",
       "      <td>0.248</td>\n",
       "      <td>244.67</td>\n",
       "      <td>2.0</td>\n",
       "      <td>0</td>\n",
       "      <td>1</td>\n",
       "      <td>1</td>\n",
       "      <td>20</td>\n",
       "      <td>1</td>\n",
       "    </tr>\n",
       "  </tbody>\n",
       "</table>\n",
       "</div>"
      ],
      "text/plain": [
       "   Global_active_power  Global_reactive_power  Voltage  Global_intensity  \\\n",
       "0                0.284                  0.000   240.03               1.2   \n",
       "1                0.488                  0.194   242.18               2.2   \n",
       "2                0.350                  0.098   243.71               1.4   \n",
       "3                0.464                  0.000   237.06               2.0   \n",
       "4                0.430                  0.248   244.67               2.0   \n",
       "\n",
       "   Sub_metering_1  Sub_metering_2  Sub_metering_3  day  month  \n",
       "0               0               0               0    1      9  \n",
       "1               0               1               1   18     10  \n",
       "2               0               0               0   27      4  \n",
       "3               0               1               0   25      5  \n",
       "4               0               1               1   20      1  "
      ]
     },
     "execution_count": 16,
     "metadata": {},
     "output_type": "execute_result"
    }
   ],
   "source": [
    "X.head()"
   ]
  },
  {
   "cell_type": "code",
   "execution_count": 17,
   "id": "20a0b053",
   "metadata": {},
   "outputs": [
    {
     "data": {
      "text/plain": [
       "0    0\n",
       "1    2\n",
       "2    0\n",
       "3    1\n",
       "4    2\n",
       "Name: Total_power_use, dtype: int64"
      ]
     },
     "execution_count": 17,
     "metadata": {},
     "output_type": "execute_result"
    }
   ],
   "source": [
    "y.head()"
   ]
  },
  {
   "cell_type": "markdown",
   "id": "231b8abe",
   "metadata": {},
   "source": [
    "# <span style='color:red'> 3.2 Train Test Split </span>"
   ]
  },
  {
   "cell_type": "code",
   "execution_count": 18,
   "id": "dbaf0cad",
   "metadata": {},
   "outputs": [
    {
     "data": {
      "text/html": [
       "<div>\n",
       "<style scoped>\n",
       "    .dataframe tbody tr th:only-of-type {\n",
       "        vertical-align: middle;\n",
       "    }\n",
       "\n",
       "    .dataframe tbody tr th {\n",
       "        vertical-align: top;\n",
       "    }\n",
       "\n",
       "    .dataframe thead th {\n",
       "        text-align: right;\n",
       "    }\n",
       "</style>\n",
       "<table border=\"1\" class=\"dataframe\">\n",
       "  <thead>\n",
       "    <tr style=\"text-align: right;\">\n",
       "      <th></th>\n",
       "      <th>Global_active_power</th>\n",
       "      <th>Global_reactive_power</th>\n",
       "      <th>Voltage</th>\n",
       "      <th>Global_intensity</th>\n",
       "      <th>Sub_metering_1</th>\n",
       "      <th>Sub_metering_2</th>\n",
       "      <th>Sub_metering_3</th>\n",
       "      <th>day</th>\n",
       "      <th>month</th>\n",
       "    </tr>\n",
       "  </thead>\n",
       "  <tbody>\n",
       "    <tr>\n",
       "      <th>27148</th>\n",
       "      <td>0.250</td>\n",
       "      <td>0.118</td>\n",
       "      <td>240.71</td>\n",
       "      <td>1.2</td>\n",
       "      <td>0</td>\n",
       "      <td>0</td>\n",
       "      <td>0</td>\n",
       "      <td>15</td>\n",
       "      <td>7</td>\n",
       "    </tr>\n",
       "    <tr>\n",
       "      <th>18596</th>\n",
       "      <td>0.248</td>\n",
       "      <td>0.110</td>\n",
       "      <td>242.93</td>\n",
       "      <td>1.0</td>\n",
       "      <td>0</td>\n",
       "      <td>2</td>\n",
       "      <td>1</td>\n",
       "      <td>23</td>\n",
       "      <td>7</td>\n",
       "    </tr>\n",
       "    <tr>\n",
       "      <th>17779</th>\n",
       "      <td>2.158</td>\n",
       "      <td>0.486</td>\n",
       "      <td>238.90</td>\n",
       "      <td>9.2</td>\n",
       "      <td>0</td>\n",
       "      <td>1</td>\n",
       "      <td>30</td>\n",
       "      <td>28</td>\n",
       "      <td>8</td>\n",
       "    </tr>\n",
       "    <tr>\n",
       "      <th>25995</th>\n",
       "      <td>0.746</td>\n",
       "      <td>0.072</td>\n",
       "      <td>244.79</td>\n",
       "      <td>3.2</td>\n",
       "      <td>0</td>\n",
       "      <td>1</td>\n",
       "      <td>0</td>\n",
       "      <td>30</td>\n",
       "      <td>11</td>\n",
       "    </tr>\n",
       "    <tr>\n",
       "      <th>11270</th>\n",
       "      <td>0.404</td>\n",
       "      <td>0.000</td>\n",
       "      <td>241.84</td>\n",
       "      <td>2.0</td>\n",
       "      <td>0</td>\n",
       "      <td>0</td>\n",
       "      <td>0</td>\n",
       "      <td>26</td>\n",
       "      <td>10</td>\n",
       "    </tr>\n",
       "  </tbody>\n",
       "</table>\n",
       "</div>"
      ],
      "text/plain": [
       "       Global_active_power  Global_reactive_power  Voltage  Global_intensity  \\\n",
       "27148                0.250                  0.118   240.71               1.2   \n",
       "18596                0.248                  0.110   242.93               1.0   \n",
       "17779                2.158                  0.486   238.90               9.2   \n",
       "25995                0.746                  0.072   244.79               3.2   \n",
       "11270                0.404                  0.000   241.84               2.0   \n",
       "\n",
       "       Sub_metering_1  Sub_metering_2  Sub_metering_3  day  month  \n",
       "27148               0               0               0   15      7  \n",
       "18596               0               2               1   23      7  \n",
       "17779               0               1              30   28      8  \n",
       "25995               0               1               0   30     11  \n",
       "11270               0               0               0   26     10  "
      ]
     },
     "execution_count": 18,
     "metadata": {},
     "output_type": "execute_result"
    }
   ],
   "source": [
    "X_train, X_test, y_train, y_test = train_test_split(X, y, test_size=0.25, random_state= 19)\n",
    "X_train.head()"
   ]
  },
  {
   "cell_type": "code",
   "execution_count": 19,
   "id": "c18b0876",
   "metadata": {},
   "outputs": [
    {
     "data": {
      "text/plain": [
       "27148     0\n",
       "18596     3\n",
       "17779    31\n",
       "25995     1\n",
       "11270     0\n",
       "Name: Total_power_use, dtype: int64"
      ]
     },
     "execution_count": 19,
     "metadata": {},
     "output_type": "execute_result"
    }
   ],
   "source": [
    "y_train.head()"
   ]
  },
  {
   "cell_type": "code",
   "execution_count": 20,
   "id": "d795839c",
   "metadata": {},
   "outputs": [
    {
     "data": {
      "text/html": [
       "<div>\n",
       "<style scoped>\n",
       "    .dataframe tbody tr th:only-of-type {\n",
       "        vertical-align: middle;\n",
       "    }\n",
       "\n",
       "    .dataframe tbody tr th {\n",
       "        vertical-align: top;\n",
       "    }\n",
       "\n",
       "    .dataframe thead th {\n",
       "        text-align: right;\n",
       "    }\n",
       "</style>\n",
       "<table border=\"1\" class=\"dataframe\">\n",
       "  <thead>\n",
       "    <tr style=\"text-align: right;\">\n",
       "      <th></th>\n",
       "      <th>Global_active_power</th>\n",
       "      <th>Global_reactive_power</th>\n",
       "      <th>Voltage</th>\n",
       "      <th>Global_intensity</th>\n",
       "      <th>Sub_metering_1</th>\n",
       "      <th>Sub_metering_2</th>\n",
       "      <th>Sub_metering_3</th>\n",
       "      <th>day</th>\n",
       "      <th>month</th>\n",
       "    </tr>\n",
       "  </thead>\n",
       "  <tbody>\n",
       "    <tr>\n",
       "      <th>15567</th>\n",
       "      <td>3.300</td>\n",
       "      <td>0.056</td>\n",
       "      <td>240.15</td>\n",
       "      <td>13.8</td>\n",
       "      <td>0</td>\n",
       "      <td>0</td>\n",
       "      <td>0</td>\n",
       "      <td>13</td>\n",
       "      <td>12</td>\n",
       "    </tr>\n",
       "    <tr>\n",
       "      <th>20711</th>\n",
       "      <td>2.170</td>\n",
       "      <td>0.238</td>\n",
       "      <td>235.82</td>\n",
       "      <td>9.4</td>\n",
       "      <td>0</td>\n",
       "      <td>32</td>\n",
       "      <td>0</td>\n",
       "      <td>4</td>\n",
       "      <td>6</td>\n",
       "    </tr>\n",
       "    <tr>\n",
       "      <th>35071</th>\n",
       "      <td>1.964</td>\n",
       "      <td>0.000</td>\n",
       "      <td>232.56</td>\n",
       "      <td>8.4</td>\n",
       "      <td>0</td>\n",
       "      <td>0</td>\n",
       "      <td>0</td>\n",
       "      <td>8</td>\n",
       "      <td>11</td>\n",
       "    </tr>\n",
       "    <tr>\n",
       "      <th>38605</th>\n",
       "      <td>4.410</td>\n",
       "      <td>0.314</td>\n",
       "      <td>237.50</td>\n",
       "      <td>18.6</td>\n",
       "      <td>0</td>\n",
       "      <td>36</td>\n",
       "      <td>17</td>\n",
       "      <td>10</td>\n",
       "      <td>8</td>\n",
       "    </tr>\n",
       "    <tr>\n",
       "      <th>4208</th>\n",
       "      <td>2.426</td>\n",
       "      <td>0.164</td>\n",
       "      <td>240.87</td>\n",
       "      <td>10.0</td>\n",
       "      <td>0</td>\n",
       "      <td>2</td>\n",
       "      <td>18</td>\n",
       "      <td>22</td>\n",
       "      <td>7</td>\n",
       "    </tr>\n",
       "  </tbody>\n",
       "</table>\n",
       "</div>"
      ],
      "text/plain": [
       "       Global_active_power  Global_reactive_power  Voltage  Global_intensity  \\\n",
       "15567                3.300                  0.056   240.15              13.8   \n",
       "20711                2.170                  0.238   235.82               9.4   \n",
       "35071                1.964                  0.000   232.56               8.4   \n",
       "38605                4.410                  0.314   237.50              18.6   \n",
       "4208                 2.426                  0.164   240.87              10.0   \n",
       "\n",
       "       Sub_metering_1  Sub_metering_2  Sub_metering_3  day  month  \n",
       "15567               0               0               0   13     12  \n",
       "20711               0              32               0    4      6  \n",
       "35071               0               0               0    8     11  \n",
       "38605               0              36              17   10      8  \n",
       "4208                0               2              18   22      7  "
      ]
     },
     "execution_count": 20,
     "metadata": {},
     "output_type": "execute_result"
    }
   ],
   "source": [
    "X_test.head()"
   ]
  },
  {
   "cell_type": "code",
   "execution_count": 21,
   "id": "1b26aa87",
   "metadata": {},
   "outputs": [
    {
     "data": {
      "text/plain": [
       "15567     0\n",
       "20711    32\n",
       "35071     0\n",
       "38605    53\n",
       "4208     20\n",
       "Name: Total_power_use, dtype: int64"
      ]
     },
     "execution_count": 21,
     "metadata": {},
     "output_type": "execute_result"
    }
   ],
   "source": [
    "y_test.head()"
   ]
  },
  {
   "cell_type": "code",
   "execution_count": 22,
   "id": "7c3da2cd",
   "metadata": {},
   "outputs": [
    {
     "data": {
      "text/plain": [
       "((36309, 9), (36309,))"
      ]
     },
     "execution_count": 22,
     "metadata": {},
     "output_type": "execute_result"
    }
   ],
   "source": [
    "### both will have same shape\n",
    "X_train.shape,y_train.shape"
   ]
  },
  {
   "cell_type": "code",
   "execution_count": 23,
   "id": "8fd1afae",
   "metadata": {},
   "outputs": [
    {
     "data": {
      "text/plain": [
       "((12103, 9), (12103,))"
      ]
     },
     "execution_count": 23,
     "metadata": {},
     "output_type": "execute_result"
    }
   ],
   "source": [
    "X_test.shape,y_test.shape"
   ]
  },
  {
   "cell_type": "markdown",
   "id": "d7628b75",
   "metadata": {},
   "source": [
    "# <span style='color:red'> 3.3 Feature Scaling </span>"
   ]
  },
  {
   "cell_type": "code",
   "execution_count": 24,
   "id": "0b7f2ee3",
   "metadata": {},
   "outputs": [
    {
     "data": {
      "text/plain": [
       "StandardScaler()"
      ]
     },
     "execution_count": 24,
     "metadata": {},
     "output_type": "execute_result"
    }
   ],
   "source": [
    "Scaler = StandardScaler()\n",
    "Scaler"
   ]
  },
  {
   "cell_type": "code",
   "execution_count": 25,
   "id": "8550fad3",
   "metadata": {},
   "outputs": [
    {
     "data": {
      "text/plain": [
       "array([[-0.80258101, -0.05747984, -0.03034584, ..., -0.76909553,\n",
       "        -0.07367583,  0.1908574 ],\n",
       "       [-0.80449444, -0.12847529,  0.66809624, ..., -0.65080045,\n",
       "         0.83529316,  0.1908574 ],\n",
       "       [ 1.02283174,  3.20831075, -0.59979636, ...,  2.77975662,\n",
       "         1.40339878,  0.4861967 ],\n",
       "       ...,\n",
       "       [-0.17114893, -1.10466269,  0.96383298, ..., -0.76909553,\n",
       "        -0.64178145,  1.66755389],\n",
       "       [ 3.60978985,  3.048571  , -2.05645709, ..., -0.76909553,\n",
       "        -1.20988707, -0.99049979],\n",
       "       [ 0.73773058,  0.31524626,  0.1238148 , ..., -0.76909553,\n",
       "        -0.64178145, -1.58117839]])"
      ]
     },
     "execution_count": 25,
     "metadata": {},
     "output_type": "execute_result"
    }
   ],
   "source": [
    "X_train = Scaler.fit_transform(X_train)\n",
    "X_train "
   ]
  },
  {
   "cell_type": "code",
   "execution_count": 26,
   "id": "c1f202d2",
   "metadata": {},
   "outputs": [
    {
     "data": {
      "text/plain": [
       "array([[ 2.11540058, -0.60769456, -0.20652942, ..., -0.76909553,\n",
       "        -0.30091808,  1.66755389],\n",
       "       [ 1.03431232,  1.00745188, -1.56880609, ..., -0.76909553,\n",
       "        -1.3235082 , -0.1044819 ],\n",
       "       [ 0.83722897, -1.10466269, -2.59444626, ..., -0.76909553,\n",
       "        -0.8690237 ,  1.37221459],\n",
       "       ...,\n",
       "       [ 0.23258492, -0.43020594,  1.21866995, ...,  1.47851083,\n",
       "         1.51701991, -1.58117839],\n",
       "       [-0.81214817, -1.10466269,  0.40067473, ..., -0.65080045,\n",
       "        -0.98264483,  0.78153599],\n",
       "       [-0.95948232, -1.10466269, -0.25372146, ..., -0.76909553,\n",
       "         0.38080867, -0.1044819 ]])"
      ]
     },
     "execution_count": 26,
     "metadata": {},
     "output_type": "execute_result"
    }
   ],
   "source": [
    "x_test=Scaler.transform(X_test)\n",
    "x_test"
   ]
  },
  {
   "cell_type": "markdown",
   "id": "3447a48d",
   "metadata": {},
   "source": [
    "# <span style='color:red'> 3.4 Linear Regression </span>"
   ]
  },
  {
   "cell_type": "code",
   "execution_count": 27,
   "id": "19bc60a2",
   "metadata": {},
   "outputs": [
    {
     "data": {
      "text/plain": [
       "LinearRegression()"
      ]
     },
     "execution_count": 27,
     "metadata": {},
     "output_type": "execute_result"
    }
   ],
   "source": [
    "linear_reg =LinearRegression()\n",
    "linear_reg"
   ]
  },
  {
   "cell_type": "code",
   "execution_count": 28,
   "id": "37da8bad",
   "metadata": {},
   "outputs": [
    {
     "data": {
      "text/plain": [
       "LinearRegression()"
      ]
     },
     "execution_count": 28,
     "metadata": {},
     "output_type": "execute_result"
    }
   ],
   "source": [
    "linear_reg.fit(X_train,y_train)"
   ]
  },
  {
   "cell_type": "code",
   "execution_count": 29,
   "id": "28cb3a41",
   "metadata": {},
   "outputs": [
    {
     "data": {
      "text/plain": [
       "array([  8.82084332, 188.34149684,   8.82084332, ..., 169.43615708,\n",
       "        17.27428088,   8.82084332])"
      ]
     },
     "execution_count": 29,
     "metadata": {},
     "output_type": "execute_result"
    }
   ],
   "source": [
    "linear_reg_pred = linear_reg.predict(X_test)\n",
    "linear_reg_pred"
   ]
  },
  {
   "cell_type": "code",
   "execution_count": 30,
   "id": "b4116603",
   "metadata": {},
   "outputs": [
    {
     "name": "stdout",
     "output_type": "stream",
     "text": [
      "Our Linear Regression model has -6579.553 % accuracy\n"
     ]
    }
   ],
   "source": [
    "r2score_linear_reg = r2_score(y_test,linear_reg_pred)\n",
    "print(\"Our Linear Regression model has {} % accuracy\".format(round(r2score_linear_reg*100,3)))"
   ]
  },
  {
   "cell_type": "code",
   "execution_count": 31,
   "id": "9ab0c027",
   "metadata": {},
   "outputs": [
    {
     "name": "stdout",
     "output_type": "stream",
     "text": [
      "Our Linear Regression model has -6584.524 % accuracy\n"
     ]
    }
   ],
   "source": [
    "adj_r2score_linear_reg= (1-(1-(r2score_linear_reg))*(len(y_test)-1)/(len(y_test)-X_test.shape[1]-1))\n",
    "print(\"Our Linear Regression model has {} % accuracy\".format(round(adj_r2score_linear_reg*100,3)))"
   ]
  },
  {
   "cell_type": "markdown",
   "id": "78bfe9ae",
   "metadata": {},
   "source": [
    "# <span style='color:red'> 3.5 Ridge Regression </span>"
   ]
  },
  {
   "cell_type": "code",
   "execution_count": 32,
   "id": "84a51a5d",
   "metadata": {},
   "outputs": [
    {
     "data": {
      "text/plain": [
       "Ridge()"
      ]
     },
     "execution_count": 32,
     "metadata": {},
     "output_type": "execute_result"
    }
   ],
   "source": [
    "ridge=Ridge()\n",
    "ridge"
   ]
  },
  {
   "cell_type": "code",
   "execution_count": 33,
   "id": "e773079c",
   "metadata": {},
   "outputs": [
    {
     "data": {
      "text/plain": [
       "Ridge()"
      ]
     },
     "execution_count": 33,
     "metadata": {},
     "output_type": "execute_result"
    }
   ],
   "source": [
    "ridge.fit(X_train,y_train)"
   ]
  },
  {
   "cell_type": "code",
   "execution_count": 34,
   "id": "be3214dd",
   "metadata": {},
   "outputs": [
    {
     "data": {
      "text/plain": [
       "array([  8.80246419, 188.31293419,   8.80708443, ..., 169.41094039,\n",
       "        17.26578381,   8.81357841])"
      ]
     },
     "execution_count": 34,
     "metadata": {},
     "output_type": "execute_result"
    }
   ],
   "source": [
    "ridge.pred=ridge.predict(X_test)\n",
    "ridge.pred"
   ]
  },
  {
   "cell_type": "code",
   "execution_count": 35,
   "id": "9c577567",
   "metadata": {},
   "outputs": [
    {
     "name": "stdout",
     "output_type": "stream",
     "text": [
      "our ridge regression has -6577.149 acuracy\n"
     ]
    }
   ],
   "source": [
    "r2_score_ridge=r2_score(y_test,ridge.pred)\n",
    "print('our ridge regression has {} acuracy'.format(round(r2_score_ridge*100,3)))"
   ]
  },
  {
   "cell_type": "code",
   "execution_count": 36,
   "id": "8c1baa00",
   "metadata": {},
   "outputs": [
    {
     "name": "stdout",
     "output_type": "stream",
     "text": [
      "our ridge regression has -6582.118 acuracy\n"
     ]
    }
   ],
   "source": [
    "adj_r2_score_ridge=(1-(1-r2_score_ridge)*(len(y_test)-1)/(len(y_test)-X_test.shape[1]-1))\n",
    "print('our ridge regression has {} acuracy'.format(round(adj_r2_score_ridge*100,3)))"
   ]
  },
  {
   "cell_type": "markdown",
   "id": "76d6c292",
   "metadata": {},
   "source": [
    "# <span style='color:red'> 3.5 Lasso Regression </span>"
   ]
  },
  {
   "cell_type": "code",
   "execution_count": 37,
   "id": "88d46e77",
   "metadata": {},
   "outputs": [
    {
     "data": {
      "text/plain": [
       "Lasso()"
      ]
     },
     "execution_count": 37,
     "metadata": {},
     "output_type": "execute_result"
    }
   ],
   "source": [
    "lasso = Lasso()\n",
    "lasso"
   ]
  },
  {
   "cell_type": "code",
   "execution_count": 38,
   "id": "f20fa991",
   "metadata": {},
   "outputs": [
    {
     "data": {
      "text/plain": [
       "Lasso()"
      ]
     },
     "execution_count": 38,
     "metadata": {},
     "output_type": "execute_result"
    }
   ],
   "source": [
    "lasso.fit(X_train,y_train)"
   ]
  },
  {
   "cell_type": "code",
   "execution_count": 39,
   "id": "1982a2a2",
   "metadata": {},
   "outputs": [
    {
     "data": {
      "text/plain": [
       "array([ 12.48171433, 149.71968619,  10.99961624, ..., 142.89953776,\n",
       "        16.06609026,   8.91624783])"
      ]
     },
     "execution_count": 39,
     "metadata": {},
     "output_type": "execute_result"
    }
   ],
   "source": [
    "lasso_pred =lasso.predict(X_test)\n",
    "lasso_pred"
   ]
  },
  {
   "cell_type": "code",
   "execution_count": 40,
   "id": "aedd5175",
   "metadata": {},
   "outputs": [
    {
     "name": "stdout",
     "output_type": "stream",
     "text": [
      "our lasso regression has -4273.457803631254 acurracy\n"
     ]
    }
   ],
   "source": [
    "r2_score_lasso = r2_score(y_test,lasso_pred)\n",
    "print('our lasso regression has {} acurracy'.format(r2_score_lasso*100,3))"
   ]
  },
  {
   "cell_type": "code",
   "execution_count": 41,
   "id": "9b505b0f",
   "metadata": {},
   "outputs": [
    {
     "name": "stdout",
     "output_type": "stream",
     "text": [
      "our lasso regression has -4276.71267175601 acurracy\n"
     ]
    }
   ],
   "source": [
    "adj_r2_score_lasso=(1-(1-r2_score_lasso)*(len(y_test)-1)/(len(y_test)-X_test.shape[1]-1))\n",
    "print('our lasso regression has {} acurracy'.format(adj_r2_score_lasso*100,3))"
   ]
  },
  {
   "cell_type": "markdown",
   "id": "5c1756bc",
   "metadata": {},
   "source": [
    "# <span style='color:red'> 3.6 Elastic-Net Regression </span>"
   ]
  },
  {
   "cell_type": "code",
   "execution_count": 42,
   "id": "219b98aa",
   "metadata": {},
   "outputs": [
    {
     "data": {
      "text/plain": [
       "ElasticNet()"
      ]
     },
     "execution_count": 42,
     "metadata": {},
     "output_type": "execute_result"
    }
   ],
   "source": [
    "elasticnet = ElasticNet()\n",
    "elasticnet "
   ]
  },
  {
   "cell_type": "code",
   "execution_count": 43,
   "id": "3f6e4c26",
   "metadata": {},
   "outputs": [
    {
     "data": {
      "text/plain": [
       "ElasticNet()"
      ]
     },
     "execution_count": 43,
     "metadata": {},
     "output_type": "execute_result"
    }
   ],
   "source": [
    "elasticnet.fit(X_train,y_train)"
   ]
  },
  {
   "cell_type": "code",
   "execution_count": 44,
   "id": "f85e7af8",
   "metadata": {},
   "outputs": [
    {
     "data": {
      "text/plain": [
       "array([ 20.18372282,  91.66214942,   7.08616422, ...,  72.78430847,\n",
       "        -8.69870272, -13.95690664])"
      ]
     },
     "execution_count": 44,
     "metadata": {},
     "output_type": "execute_result"
    }
   ],
   "source": [
    "elasticnet_pred=elasticnet.predict(X_test)\n",
    "elasticnet_pred"
   ]
  },
  {
   "cell_type": "code",
   "execution_count": 45,
   "id": "dbe81873",
   "metadata": {},
   "outputs": [
    {
     "name": "stdout",
     "output_type": "stream",
     "text": [
      "our elasticnet regression has -4273.457803631254 acurracy\n"
     ]
    }
   ],
   "source": [
    "r2_score_elasticnet = r2_score(y_test,elasticnet_pred)\n",
    "print('our elasticnet regression has {} acurracy'.format(r2_score_lasso*100,3))"
   ]
  },
  {
   "cell_type": "code",
   "execution_count": 46,
   "id": "e57d96e5",
   "metadata": {},
   "outputs": [
    {
     "name": "stdout",
     "output_type": "stream",
     "text": [
      "our elasticnet regression has -1088.769843506163 acurracy\n"
     ]
    }
   ],
   "source": [
    "adj_r2_score_elasticnet=(1-(1-r2_score_elasticnet)*(len(y_test)-1)/(len(y_test)-X_test.shape[1]-1))\n",
    "print('our elasticnet regression has {} acurracy'.format(adj_r2_score_elasticnet*100,3))"
   ]
  },
  {
   "cell_type": "markdown",
   "id": "27e60bad",
   "metadata": {},
   "source": [
    "# <span style='color:red'> 3.7 Support Vector Regressor </span>"
   ]
  },
  {
   "cell_type": "code",
   "execution_count": 47,
   "id": "6bd6eb5a",
   "metadata": {},
   "outputs": [
    {
     "data": {
      "text/plain": [
       "SVR()"
      ]
     },
     "execution_count": 47,
     "metadata": {},
     "output_type": "execute_result"
    }
   ],
   "source": [
    "svr=SVR()\n",
    "svr"
   ]
  },
  {
   "cell_type": "code",
   "execution_count": 48,
   "id": "a252d1e3",
   "metadata": {},
   "outputs": [
    {
     "data": {
      "text/plain": [
       "SVR()"
      ]
     },
     "execution_count": 48,
     "metadata": {},
     "output_type": "execute_result"
    }
   ],
   "source": [
    "svr.fit(X_train, y_train)"
   ]
  },
  {
   "cell_type": "code",
   "execution_count": 49,
   "id": "29a4da10",
   "metadata": {},
   "outputs": [
    {
     "data": {
      "text/plain": [
       "array([29.4927867, 29.4927867, 29.4927867, ..., 29.4927867, 29.4927867,\n",
       "       29.4927867])"
      ]
     },
     "execution_count": 49,
     "metadata": {},
     "output_type": "execute_result"
    }
   ],
   "source": [
    "svr_pred=svr.predict(X_test)\n",
    "svr_pred"
   ]
  },
  {
   "cell_type": "code",
   "execution_count": 50,
   "id": "83e06536",
   "metadata": {},
   "outputs": [
    {
     "name": "stdout",
     "output_type": "stream",
     "text": [
      "Our Support Vector Regressor model has -257.858 % accuracy\n"
     ]
    }
   ],
   "source": [
    "r2score_svr=r2_score(y_test, svr_pred)\n",
    "print(\"Our Support Vector Regressor model has {} % accuracy\".format(round(r2score_svr*100,3)))"
   ]
  },
  {
   "cell_type": "code",
   "execution_count": 51,
   "id": "0cdef490",
   "metadata": {},
   "outputs": [
    {
     "name": "stdout",
     "output_type": "stream",
     "text": [
      "Adjusted R square accuracy is -258.124 % \n"
     ]
    }
   ],
   "source": [
    "adjusted_r2_score_svr=1-((1-r2score_svr)*(len(y_test)-1)/(len(y_test)-X_test.shape[1]-1))\n",
    "print(\"Adjusted R square accuracy is {} % \".format(round(adjusted_r2_score_svr*100,3)))"
   ]
  },
  {
   "cell_type": "code",
   "execution_count": null,
   "id": "e9630ce8",
   "metadata": {},
   "outputs": [],
   "source": []
  },
  {
   "cell_type": "code",
   "execution_count": null,
   "id": "01a29509",
   "metadata": {},
   "outputs": [],
   "source": []
  }
 ],
 "metadata": {
  "kernelspec": {
   "display_name": "Python 3 (ipykernel)",
   "language": "python",
   "name": "python3"
  },
  "language_info": {
   "codemirror_mode": {
    "name": "ipython",
    "version": 3
   },
   "file_extension": ".py",
   "mimetype": "text/x-python",
   "name": "python",
   "nbconvert_exporter": "python",
   "pygments_lexer": "ipython3",
   "version": "3.9.12"
  }
 },
 "nbformat": 4,
 "nbformat_minor": 5
}
