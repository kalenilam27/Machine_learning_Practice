{
 "cells": [
  {
   "cell_type": "markdown",
   "id": "88c27819",
   "metadata": {},
   "source": [
    "# <span style='color:black'> Logistic Regression, SVC on Census Income Dataset </span>"
   ]
  },
  {
   "cell_type": "markdown",
   "id": "d72f478e",
   "metadata": {},
   "source": [
    "# <span style='color:red'> 1.0 Importing required libraries </span>"
   ]
  },
  {
   "cell_type": "code",
   "execution_count": 1,
   "id": "3fa9f957",
   "metadata": {},
   "outputs": [],
   "source": [
    "### Pandas and Numpy\n",
    "import pandas as pd\n",
    "import numpy as np\n",
    "\n",
    "### MongoDB Library\n",
    "import pymongo\n",
    "from pymongo import MongoClient\n",
    "\n",
    "### To ignore warnings\n",
    "import warnings\n",
    "warnings.filterwarnings('ignore')\n",
    "\n",
    "### Machine Learning libraries\n",
    "import sklearn\n",
    "from sklearn.model_selection import train_test_split,GridSearchCV\n",
    "from sklearn.preprocessing import OneHotEncoder\n",
    "from sklearn.preprocessing import StandardScaler\n",
    "from sklearn.compose import make_column_transformer\n",
    "from sklearn.linear_model import LogisticRegression\n",
    "from sklearn.svm import SVC\n",
    "from sklearn.metrics import confusion_matrix,accuracy_score,classification_report"
   ]
  },
  {
   "cell_type": "markdown",
   "id": "7687e712",
   "metadata": {},
   "source": [
    "# <span style='color:red'> 2.0 Retrieving data from MongoDB </span>"
   ]
  },
  {
   "cell_type": "code",
   "execution_count": 2,
   "id": "a6ca3fa8",
   "metadata": {},
   "outputs": [],
   "source": [
    "### Retriving data from Mongodb\n",
    "### creating connection with MongoDB\n",
    "\n",
    "client=MongoClient('Localhost',27017)"
   ]
  },
  {
   "cell_type": "code",
   "execution_count": 3,
   "id": "38ffcc34",
   "metadata": {},
   "outputs": [],
   "source": [
    "db=client['census-income']\n",
    "collection=db['census_income_data']"
   ]
  },
  {
   "cell_type": "code",
   "execution_count": 4,
   "id": "ac5a3644",
   "metadata": {},
   "outputs": [],
   "source": [
    "### Locating our collection and data in MongoDb using find() method\n",
    "\n",
    "data_from_mongodb = collection.find()"
   ]
  },
  {
   "cell_type": "code",
   "execution_count": 5,
   "id": "add06a97",
   "metadata": {},
   "outputs": [],
   "source": [
    "### converting data from MongoDb to Dataframe in pandas\n",
    "\n",
    "data_mongodb= pd.DataFrame(data_from_mongodb)"
   ]
  },
  {
   "cell_type": "code",
   "execution_count": 6,
   "id": "faae6b59",
   "metadata": {},
   "outputs": [
    {
     "data": {
      "text/html": [
       "<div>\n",
       "<style scoped>\n",
       "    .dataframe tbody tr th:only-of-type {\n",
       "        vertical-align: middle;\n",
       "    }\n",
       "\n",
       "    .dataframe tbody tr th {\n",
       "        vertical-align: top;\n",
       "    }\n",
       "\n",
       "    .dataframe thead th {\n",
       "        text-align: right;\n",
       "    }\n",
       "</style>\n",
       "<table border=\"1\" class=\"dataframe\">\n",
       "  <thead>\n",
       "    <tr style=\"text-align: right;\">\n",
       "      <th></th>\n",
       "      <th>_id</th>\n",
       "      <th>index</th>\n",
       "      <th>age</th>\n",
       "      <th>workclass</th>\n",
       "      <th>fnlwgt</th>\n",
       "      <th>education</th>\n",
       "      <th>education_num</th>\n",
       "      <th>marital_status</th>\n",
       "      <th>occupation</th>\n",
       "      <th>relationship</th>\n",
       "      <th>race</th>\n",
       "      <th>sex</th>\n",
       "      <th>capital_gain</th>\n",
       "      <th>capital_loss</th>\n",
       "      <th>hours_per_week</th>\n",
       "      <th>native_country</th>\n",
       "      <th>salary</th>\n",
       "    </tr>\n",
       "  </thead>\n",
       "  <tbody>\n",
       "    <tr>\n",
       "      <th>0</th>\n",
       "      <td>643d310edc31495c1fcb7f96</td>\n",
       "      <td>0</td>\n",
       "      <td>39</td>\n",
       "      <td>other</td>\n",
       "      <td>77516</td>\n",
       "      <td>Bachelors</td>\n",
       "      <td>13</td>\n",
       "      <td>Never_married</td>\n",
       "      <td>Adm_clerical</td>\n",
       "      <td>Not_in_family</td>\n",
       "      <td>White</td>\n",
       "      <td>Male</td>\n",
       "      <td>2174</td>\n",
       "      <td>0</td>\n",
       "      <td>40</td>\n",
       "      <td>United_States</td>\n",
       "      <td>0</td>\n",
       "    </tr>\n",
       "    <tr>\n",
       "      <th>1</th>\n",
       "      <td>643d310edc31495c1fcb7f97</td>\n",
       "      <td>1</td>\n",
       "      <td>50</td>\n",
       "      <td>other</td>\n",
       "      <td>83311</td>\n",
       "      <td>Bachelors</td>\n",
       "      <td>13</td>\n",
       "      <td>Married_civ_spouse</td>\n",
       "      <td>Exec_managerial</td>\n",
       "      <td>Husband</td>\n",
       "      <td>White</td>\n",
       "      <td>Male</td>\n",
       "      <td>0</td>\n",
       "      <td>0</td>\n",
       "      <td>13</td>\n",
       "      <td>United_States</td>\n",
       "      <td>0</td>\n",
       "    </tr>\n",
       "    <tr>\n",
       "      <th>2</th>\n",
       "      <td>643d310edc31495c1fcb7f98</td>\n",
       "      <td>2</td>\n",
       "      <td>38</td>\n",
       "      <td>Private</td>\n",
       "      <td>215646</td>\n",
       "      <td>HS_grad</td>\n",
       "      <td>9</td>\n",
       "      <td>Divorced</td>\n",
       "      <td>other</td>\n",
       "      <td>Not_in_family</td>\n",
       "      <td>White</td>\n",
       "      <td>Male</td>\n",
       "      <td>0</td>\n",
       "      <td>0</td>\n",
       "      <td>40</td>\n",
       "      <td>United_States</td>\n",
       "      <td>0</td>\n",
       "    </tr>\n",
       "    <tr>\n",
       "      <th>3</th>\n",
       "      <td>643d310edc31495c1fcb7f99</td>\n",
       "      <td>3</td>\n",
       "      <td>53</td>\n",
       "      <td>Private</td>\n",
       "      <td>234721</td>\n",
       "      <td>other</td>\n",
       "      <td>7</td>\n",
       "      <td>Married_civ_spouse</td>\n",
       "      <td>other</td>\n",
       "      <td>Husband</td>\n",
       "      <td>other</td>\n",
       "      <td>Male</td>\n",
       "      <td>0</td>\n",
       "      <td>0</td>\n",
       "      <td>40</td>\n",
       "      <td>United_States</td>\n",
       "      <td>0</td>\n",
       "    </tr>\n",
       "    <tr>\n",
       "      <th>4</th>\n",
       "      <td>643d310edc31495c1fcb7f9a</td>\n",
       "      <td>4</td>\n",
       "      <td>28</td>\n",
       "      <td>Private</td>\n",
       "      <td>338409</td>\n",
       "      <td>Bachelors</td>\n",
       "      <td>13</td>\n",
       "      <td>Married_civ_spouse</td>\n",
       "      <td>Prof_specialty</td>\n",
       "      <td>other</td>\n",
       "      <td>other</td>\n",
       "      <td>Female</td>\n",
       "      <td>0</td>\n",
       "      <td>0</td>\n",
       "      <td>40</td>\n",
       "      <td>other</td>\n",
       "      <td>0</td>\n",
       "    </tr>\n",
       "  </tbody>\n",
       "</table>\n",
       "</div>"
      ],
      "text/plain": [
       "                        _id  index  age workclass  fnlwgt  education  \\\n",
       "0  643d310edc31495c1fcb7f96      0   39     other   77516  Bachelors   \n",
       "1  643d310edc31495c1fcb7f97      1   50     other   83311  Bachelors   \n",
       "2  643d310edc31495c1fcb7f98      2   38   Private  215646    HS_grad   \n",
       "3  643d310edc31495c1fcb7f99      3   53   Private  234721      other   \n",
       "4  643d310edc31495c1fcb7f9a      4   28   Private  338409  Bachelors   \n",
       "\n",
       "   education_num      marital_status       occupation   relationship   race  \\\n",
       "0             13       Never_married     Adm_clerical  Not_in_family  White   \n",
       "1             13  Married_civ_spouse  Exec_managerial        Husband  White   \n",
       "2              9            Divorced            other  Not_in_family  White   \n",
       "3              7  Married_civ_spouse            other        Husband  other   \n",
       "4             13  Married_civ_spouse   Prof_specialty          other  other   \n",
       "\n",
       "      sex  capital_gain  capital_loss  hours_per_week native_country  salary  \n",
       "0    Male          2174             0              40  United_States       0  \n",
       "1    Male             0             0              13  United_States       0  \n",
       "2    Male             0             0              40  United_States       0  \n",
       "3    Male             0             0              40  United_States       0  \n",
       "4  Female             0             0              40          other       0  "
      ]
     },
     "execution_count": 6,
     "metadata": {},
     "output_type": "execute_result"
    }
   ],
   "source": [
    "data_mongodb.head()"
   ]
  },
  {
   "cell_type": "code",
   "execution_count": 7,
   "id": "7ef136e1",
   "metadata": {},
   "outputs": [
    {
     "data": {
      "text/html": [
       "<div>\n",
       "<style scoped>\n",
       "    .dataframe tbody tr th:only-of-type {\n",
       "        vertical-align: middle;\n",
       "    }\n",
       "\n",
       "    .dataframe tbody tr th {\n",
       "        vertical-align: top;\n",
       "    }\n",
       "\n",
       "    .dataframe thead th {\n",
       "        text-align: right;\n",
       "    }\n",
       "</style>\n",
       "<table border=\"1\" class=\"dataframe\">\n",
       "  <thead>\n",
       "    <tr style=\"text-align: right;\">\n",
       "      <th></th>\n",
       "      <th>age</th>\n",
       "      <th>workclass</th>\n",
       "      <th>fnlwgt</th>\n",
       "      <th>education</th>\n",
       "      <th>education_num</th>\n",
       "      <th>marital_status</th>\n",
       "      <th>occupation</th>\n",
       "      <th>relationship</th>\n",
       "      <th>race</th>\n",
       "      <th>sex</th>\n",
       "      <th>capital_gain</th>\n",
       "      <th>capital_loss</th>\n",
       "      <th>hours_per_week</th>\n",
       "      <th>native_country</th>\n",
       "      <th>salary</th>\n",
       "    </tr>\n",
       "  </thead>\n",
       "  <tbody>\n",
       "    <tr>\n",
       "      <th>0</th>\n",
       "      <td>39</td>\n",
       "      <td>other</td>\n",
       "      <td>77516</td>\n",
       "      <td>Bachelors</td>\n",
       "      <td>13</td>\n",
       "      <td>Never_married</td>\n",
       "      <td>Adm_clerical</td>\n",
       "      <td>Not_in_family</td>\n",
       "      <td>White</td>\n",
       "      <td>Male</td>\n",
       "      <td>2174</td>\n",
       "      <td>0</td>\n",
       "      <td>40</td>\n",
       "      <td>United_States</td>\n",
       "      <td>0</td>\n",
       "    </tr>\n",
       "    <tr>\n",
       "      <th>1</th>\n",
       "      <td>50</td>\n",
       "      <td>other</td>\n",
       "      <td>83311</td>\n",
       "      <td>Bachelors</td>\n",
       "      <td>13</td>\n",
       "      <td>Married_civ_spouse</td>\n",
       "      <td>Exec_managerial</td>\n",
       "      <td>Husband</td>\n",
       "      <td>White</td>\n",
       "      <td>Male</td>\n",
       "      <td>0</td>\n",
       "      <td>0</td>\n",
       "      <td>13</td>\n",
       "      <td>United_States</td>\n",
       "      <td>0</td>\n",
       "    </tr>\n",
       "    <tr>\n",
       "      <th>2</th>\n",
       "      <td>38</td>\n",
       "      <td>Private</td>\n",
       "      <td>215646</td>\n",
       "      <td>HS_grad</td>\n",
       "      <td>9</td>\n",
       "      <td>Divorced</td>\n",
       "      <td>other</td>\n",
       "      <td>Not_in_family</td>\n",
       "      <td>White</td>\n",
       "      <td>Male</td>\n",
       "      <td>0</td>\n",
       "      <td>0</td>\n",
       "      <td>40</td>\n",
       "      <td>United_States</td>\n",
       "      <td>0</td>\n",
       "    </tr>\n",
       "    <tr>\n",
       "      <th>3</th>\n",
       "      <td>53</td>\n",
       "      <td>Private</td>\n",
       "      <td>234721</td>\n",
       "      <td>other</td>\n",
       "      <td>7</td>\n",
       "      <td>Married_civ_spouse</td>\n",
       "      <td>other</td>\n",
       "      <td>Husband</td>\n",
       "      <td>other</td>\n",
       "      <td>Male</td>\n",
       "      <td>0</td>\n",
       "      <td>0</td>\n",
       "      <td>40</td>\n",
       "      <td>United_States</td>\n",
       "      <td>0</td>\n",
       "    </tr>\n",
       "    <tr>\n",
       "      <th>4</th>\n",
       "      <td>28</td>\n",
       "      <td>Private</td>\n",
       "      <td>338409</td>\n",
       "      <td>Bachelors</td>\n",
       "      <td>13</td>\n",
       "      <td>Married_civ_spouse</td>\n",
       "      <td>Prof_specialty</td>\n",
       "      <td>other</td>\n",
       "      <td>other</td>\n",
       "      <td>Female</td>\n",
       "      <td>0</td>\n",
       "      <td>0</td>\n",
       "      <td>40</td>\n",
       "      <td>other</td>\n",
       "      <td>0</td>\n",
       "    </tr>\n",
       "  </tbody>\n",
       "</table>\n",
       "</div>"
      ],
      "text/plain": [
       "   age workclass  fnlwgt  education  education_num      marital_status  \\\n",
       "0   39     other   77516  Bachelors             13       Never_married   \n",
       "1   50     other   83311  Bachelors             13  Married_civ_spouse   \n",
       "2   38   Private  215646    HS_grad              9            Divorced   \n",
       "3   53   Private  234721      other              7  Married_civ_spouse   \n",
       "4   28   Private  338409  Bachelors             13  Married_civ_spouse   \n",
       "\n",
       "        occupation   relationship   race     sex  capital_gain  capital_loss  \\\n",
       "0     Adm_clerical  Not_in_family  White    Male          2174             0   \n",
       "1  Exec_managerial        Husband  White    Male             0             0   \n",
       "2            other  Not_in_family  White    Male             0             0   \n",
       "3            other        Husband  other    Male             0             0   \n",
       "4   Prof_specialty          other  other  Female             0             0   \n",
       "\n",
       "   hours_per_week native_country  salary  \n",
       "0              40  United_States       0  \n",
       "1              13  United_States       0  \n",
       "2              40  United_States       0  \n",
       "3              40  United_States       0  \n",
       "4              40          other       0  "
      ]
     },
     "execution_count": 7,
     "metadata": {},
     "output_type": "execute_result"
    }
   ],
   "source": [
    "data_mongodb.drop(['_id','index'],axis=1,inplace=True)\n",
    "data_mongodb.head()"
   ]
  },
  {
   "cell_type": "code",
   "execution_count": 8,
   "id": "c3c8649c",
   "metadata": {},
   "outputs": [
    {
     "data": {
      "text/plain": [
       "(48813, 15)"
      ]
     },
     "execution_count": 8,
     "metadata": {},
     "output_type": "execute_result"
    }
   ],
   "source": [
    "data_mongodb.shape"
   ]
  },
  {
   "cell_type": "markdown",
   "id": "cc9ced31",
   "metadata": {},
   "source": [
    "# <span style='color:red'> 3.0 Model and Evaluation </span>"
   ]
  },
  {
   "cell_type": "markdown",
   "id": "4f6403e9",
   "metadata": {},
   "source": [
    "# <span style='color:red'> 3.1 Seperating Independent and Dependent features </span>"
   ]
  },
  {
   "cell_type": "code",
   "execution_count": 9,
   "id": "5c498b44",
   "metadata": {},
   "outputs": [
    {
     "data": {
      "text/html": [
       "<div>\n",
       "<style scoped>\n",
       "    .dataframe tbody tr th:only-of-type {\n",
       "        vertical-align: middle;\n",
       "    }\n",
       "\n",
       "    .dataframe tbody tr th {\n",
       "        vertical-align: top;\n",
       "    }\n",
       "\n",
       "    .dataframe thead th {\n",
       "        text-align: right;\n",
       "    }\n",
       "</style>\n",
       "<table border=\"1\" class=\"dataframe\">\n",
       "  <thead>\n",
       "    <tr style=\"text-align: right;\">\n",
       "      <th></th>\n",
       "      <th>salary</th>\n",
       "      <th>native_country</th>\n",
       "      <th>hours_per_week</th>\n",
       "      <th>capital_loss</th>\n",
       "      <th>capital_gain</th>\n",
       "      <th>sex</th>\n",
       "      <th>race</th>\n",
       "      <th>relationship</th>\n",
       "      <th>occupation</th>\n",
       "      <th>marital_status</th>\n",
       "      <th>education_num</th>\n",
       "      <th>education</th>\n",
       "      <th>fnlwgt</th>\n",
       "      <th>workclass</th>\n",
       "      <th>age</th>\n",
       "    </tr>\n",
       "  </thead>\n",
       "  <tbody>\n",
       "    <tr>\n",
       "      <th>0</th>\n",
       "      <td>0</td>\n",
       "      <td>United_States</td>\n",
       "      <td>40</td>\n",
       "      <td>0</td>\n",
       "      <td>2174</td>\n",
       "      <td>Male</td>\n",
       "      <td>White</td>\n",
       "      <td>Not_in_family</td>\n",
       "      <td>Adm_clerical</td>\n",
       "      <td>Never_married</td>\n",
       "      <td>13</td>\n",
       "      <td>Bachelors</td>\n",
       "      <td>77516</td>\n",
       "      <td>other</td>\n",
       "      <td>39</td>\n",
       "    </tr>\n",
       "    <tr>\n",
       "      <th>1</th>\n",
       "      <td>0</td>\n",
       "      <td>United_States</td>\n",
       "      <td>13</td>\n",
       "      <td>0</td>\n",
       "      <td>0</td>\n",
       "      <td>Male</td>\n",
       "      <td>White</td>\n",
       "      <td>Husband</td>\n",
       "      <td>Exec_managerial</td>\n",
       "      <td>Married_civ_spouse</td>\n",
       "      <td>13</td>\n",
       "      <td>Bachelors</td>\n",
       "      <td>83311</td>\n",
       "      <td>other</td>\n",
       "      <td>50</td>\n",
       "    </tr>\n",
       "    <tr>\n",
       "      <th>2</th>\n",
       "      <td>0</td>\n",
       "      <td>United_States</td>\n",
       "      <td>40</td>\n",
       "      <td>0</td>\n",
       "      <td>0</td>\n",
       "      <td>Male</td>\n",
       "      <td>White</td>\n",
       "      <td>Not_in_family</td>\n",
       "      <td>other</td>\n",
       "      <td>Divorced</td>\n",
       "      <td>9</td>\n",
       "      <td>HS_grad</td>\n",
       "      <td>215646</td>\n",
       "      <td>Private</td>\n",
       "      <td>38</td>\n",
       "    </tr>\n",
       "    <tr>\n",
       "      <th>3</th>\n",
       "      <td>0</td>\n",
       "      <td>United_States</td>\n",
       "      <td>40</td>\n",
       "      <td>0</td>\n",
       "      <td>0</td>\n",
       "      <td>Male</td>\n",
       "      <td>other</td>\n",
       "      <td>Husband</td>\n",
       "      <td>other</td>\n",
       "      <td>Married_civ_spouse</td>\n",
       "      <td>7</td>\n",
       "      <td>other</td>\n",
       "      <td>234721</td>\n",
       "      <td>Private</td>\n",
       "      <td>53</td>\n",
       "    </tr>\n",
       "    <tr>\n",
       "      <th>4</th>\n",
       "      <td>0</td>\n",
       "      <td>other</td>\n",
       "      <td>40</td>\n",
       "      <td>0</td>\n",
       "      <td>0</td>\n",
       "      <td>Female</td>\n",
       "      <td>other</td>\n",
       "      <td>other</td>\n",
       "      <td>Prof_specialty</td>\n",
       "      <td>Married_civ_spouse</td>\n",
       "      <td>13</td>\n",
       "      <td>Bachelors</td>\n",
       "      <td>338409</td>\n",
       "      <td>Private</td>\n",
       "      <td>28</td>\n",
       "    </tr>\n",
       "  </tbody>\n",
       "</table>\n",
       "</div>"
      ],
      "text/plain": [
       "   salary native_country  hours_per_week  capital_loss  capital_gain     sex  \\\n",
       "0       0  United_States              40             0          2174    Male   \n",
       "1       0  United_States              13             0             0    Male   \n",
       "2       0  United_States              40             0             0    Male   \n",
       "3       0  United_States              40             0             0    Male   \n",
       "4       0          other              40             0             0  Female   \n",
       "\n",
       "    race   relationship       occupation      marital_status  education_num  \\\n",
       "0  White  Not_in_family     Adm_clerical       Never_married             13   \n",
       "1  White        Husband  Exec_managerial  Married_civ_spouse             13   \n",
       "2  White  Not_in_family            other            Divorced              9   \n",
       "3  other        Husband            other  Married_civ_spouse              7   \n",
       "4  other          other   Prof_specialty  Married_civ_spouse             13   \n",
       "\n",
       "   education  fnlwgt workclass  age  \n",
       "0  Bachelors   77516     other   39  \n",
       "1  Bachelors   83311     other   50  \n",
       "2    HS_grad  215646   Private   38  \n",
       "3      other  234721   Private   53  \n",
       "4  Bachelors  338409   Private   28  "
      ]
     },
     "execution_count": 9,
     "metadata": {},
     "output_type": "execute_result"
    }
   ],
   "source": [
    "### Splitting data into independent feature dataframe and dependent feature series\n",
    "\n",
    "X= data_mongodb.iloc[:,: :-1]\n",
    "y=data_mongodb.iloc[:,-1]\n",
    "X.head()"
   ]
  },
  {
   "cell_type": "code",
   "execution_count": 10,
   "id": "aa9dc5f3",
   "metadata": {},
   "outputs": [
    {
     "data": {
      "text/plain": [
       "0    0\n",
       "1    0\n",
       "2    0\n",
       "3    0\n",
       "4    0\n",
       "Name: salary, dtype: int64"
      ]
     },
     "execution_count": 10,
     "metadata": {},
     "output_type": "execute_result"
    }
   ],
   "source": [
    "y.head()"
   ]
  },
  {
   "cell_type": "markdown",
   "id": "0b4b09d3",
   "metadata": {},
   "source": [
    "# <span style='color:red'> 3.2 Train Test Split </span>"
   ]
  },
  {
   "cell_type": "code",
   "execution_count": 11,
   "id": "7361ed8a",
   "metadata": {},
   "outputs": [],
   "source": [
    "### random state train test split will be same with all people using random_state=19\n",
    "X_train,X_test,y_train,y_test= train_test_split(X,y,test_size=0.25,random_state=19)"
   ]
  },
  {
   "cell_type": "code",
   "execution_count": 12,
   "id": "b700ae16",
   "metadata": {},
   "outputs": [
    {
     "data": {
      "text/html": [
       "<div>\n",
       "<style scoped>\n",
       "    .dataframe tbody tr th:only-of-type {\n",
       "        vertical-align: middle;\n",
       "    }\n",
       "\n",
       "    .dataframe tbody tr th {\n",
       "        vertical-align: top;\n",
       "    }\n",
       "\n",
       "    .dataframe thead th {\n",
       "        text-align: right;\n",
       "    }\n",
       "</style>\n",
       "<table border=\"1\" class=\"dataframe\">\n",
       "  <thead>\n",
       "    <tr style=\"text-align: right;\">\n",
       "      <th></th>\n",
       "      <th>salary</th>\n",
       "      <th>native_country</th>\n",
       "      <th>hours_per_week</th>\n",
       "      <th>capital_loss</th>\n",
       "      <th>capital_gain</th>\n",
       "      <th>sex</th>\n",
       "      <th>race</th>\n",
       "      <th>relationship</th>\n",
       "      <th>occupation</th>\n",
       "      <th>marital_status</th>\n",
       "      <th>education_num</th>\n",
       "      <th>education</th>\n",
       "      <th>fnlwgt</th>\n",
       "      <th>workclass</th>\n",
       "      <th>age</th>\n",
       "    </tr>\n",
       "  </thead>\n",
       "  <tbody>\n",
       "    <tr>\n",
       "      <th>34576</th>\n",
       "      <td>0</td>\n",
       "      <td>United_States</td>\n",
       "      <td>40</td>\n",
       "      <td>0</td>\n",
       "      <td>0</td>\n",
       "      <td>Female</td>\n",
       "      <td>White</td>\n",
       "      <td>other</td>\n",
       "      <td>Adm_clerical</td>\n",
       "      <td>Married_civ_spouse</td>\n",
       "      <td>13</td>\n",
       "      <td>Bachelors</td>\n",
       "      <td>156383</td>\n",
       "      <td>Private</td>\n",
       "      <td>33</td>\n",
       "    </tr>\n",
       "    <tr>\n",
       "      <th>33148</th>\n",
       "      <td>1</td>\n",
       "      <td>United_States</td>\n",
       "      <td>48</td>\n",
       "      <td>0</td>\n",
       "      <td>7298</td>\n",
       "      <td>Male</td>\n",
       "      <td>White</td>\n",
       "      <td>Husband</td>\n",
       "      <td>Prof_specialty</td>\n",
       "      <td>Married_civ_spouse</td>\n",
       "      <td>15</td>\n",
       "      <td>other</td>\n",
       "      <td>293073</td>\n",
       "      <td>Private</td>\n",
       "      <td>29</td>\n",
       "    </tr>\n",
       "    <tr>\n",
       "      <th>2109</th>\n",
       "      <td>1</td>\n",
       "      <td>United_States</td>\n",
       "      <td>40</td>\n",
       "      <td>0</td>\n",
       "      <td>5556</td>\n",
       "      <td>Male</td>\n",
       "      <td>White</td>\n",
       "      <td>Husband</td>\n",
       "      <td>Sales</td>\n",
       "      <td>Married_civ_spouse</td>\n",
       "      <td>10</td>\n",
       "      <td>Some_college</td>\n",
       "      <td>146454</td>\n",
       "      <td>Private</td>\n",
       "      <td>66</td>\n",
       "    </tr>\n",
       "    <tr>\n",
       "      <th>33501</th>\n",
       "      <td>0</td>\n",
       "      <td>United_States</td>\n",
       "      <td>50</td>\n",
       "      <td>0</td>\n",
       "      <td>0</td>\n",
       "      <td>Male</td>\n",
       "      <td>White</td>\n",
       "      <td>Own_child</td>\n",
       "      <td>Adm_clerical</td>\n",
       "      <td>Never_married</td>\n",
       "      <td>9</td>\n",
       "      <td>HS_grad</td>\n",
       "      <td>260265</td>\n",
       "      <td>Private</td>\n",
       "      <td>19</td>\n",
       "    </tr>\n",
       "    <tr>\n",
       "      <th>47110</th>\n",
       "      <td>0</td>\n",
       "      <td>United_States</td>\n",
       "      <td>50</td>\n",
       "      <td>0</td>\n",
       "      <td>0</td>\n",
       "      <td>Male</td>\n",
       "      <td>White</td>\n",
       "      <td>Not_in_family</td>\n",
       "      <td>other</td>\n",
       "      <td>Divorced</td>\n",
       "      <td>9</td>\n",
       "      <td>HS_grad</td>\n",
       "      <td>86939</td>\n",
       "      <td>Private</td>\n",
       "      <td>23</td>\n",
       "    </tr>\n",
       "  </tbody>\n",
       "</table>\n",
       "</div>"
      ],
      "text/plain": [
       "       salary native_country  hours_per_week  capital_loss  capital_gain  \\\n",
       "34576       0  United_States              40             0             0   \n",
       "33148       1  United_States              48             0          7298   \n",
       "2109        1  United_States              40             0          5556   \n",
       "33501       0  United_States              50             0             0   \n",
       "47110       0  United_States              50             0             0   \n",
       "\n",
       "          sex   race   relationship      occupation      marital_status  \\\n",
       "34576  Female  White          other    Adm_clerical  Married_civ_spouse   \n",
       "33148    Male  White        Husband  Prof_specialty  Married_civ_spouse   \n",
       "2109     Male  White        Husband           Sales  Married_civ_spouse   \n",
       "33501    Male  White      Own_child    Adm_clerical       Never_married   \n",
       "47110    Male  White  Not_in_family           other            Divorced   \n",
       "\n",
       "       education_num     education  fnlwgt workclass  age  \n",
       "34576             13     Bachelors  156383   Private   33  \n",
       "33148             15         other  293073   Private   29  \n",
       "2109              10  Some_college  146454   Private   66  \n",
       "33501              9       HS_grad  260265   Private   19  \n",
       "47110              9       HS_grad   86939   Private   23  "
      ]
     },
     "execution_count": 12,
     "metadata": {},
     "output_type": "execute_result"
    }
   ],
   "source": [
    "X_train.head()"
   ]
  },
  {
   "cell_type": "code",
   "execution_count": 13,
   "id": "7dd53763",
   "metadata": {},
   "outputs": [
    {
     "data": {
      "text/plain": [
       "34576    0\n",
       "33148    1\n",
       "2109     1\n",
       "33501    0\n",
       "47110    0\n",
       "Name: salary, dtype: int64"
      ]
     },
     "execution_count": 13,
     "metadata": {},
     "output_type": "execute_result"
    }
   ],
   "source": [
    "y_train.head()"
   ]
  },
  {
   "cell_type": "code",
   "execution_count": 14,
   "id": "c3d345b1",
   "metadata": {},
   "outputs": [
    {
     "data": {
      "text/html": [
       "<div>\n",
       "<style scoped>\n",
       "    .dataframe tbody tr th:only-of-type {\n",
       "        vertical-align: middle;\n",
       "    }\n",
       "\n",
       "    .dataframe tbody tr th {\n",
       "        vertical-align: top;\n",
       "    }\n",
       "\n",
       "    .dataframe thead th {\n",
       "        text-align: right;\n",
       "    }\n",
       "</style>\n",
       "<table border=\"1\" class=\"dataframe\">\n",
       "  <thead>\n",
       "    <tr style=\"text-align: right;\">\n",
       "      <th></th>\n",
       "      <th>salary</th>\n",
       "      <th>native_country</th>\n",
       "      <th>hours_per_week</th>\n",
       "      <th>capital_loss</th>\n",
       "      <th>capital_gain</th>\n",
       "      <th>sex</th>\n",
       "      <th>race</th>\n",
       "      <th>relationship</th>\n",
       "      <th>occupation</th>\n",
       "      <th>marital_status</th>\n",
       "      <th>education_num</th>\n",
       "      <th>education</th>\n",
       "      <th>fnlwgt</th>\n",
       "      <th>workclass</th>\n",
       "      <th>age</th>\n",
       "    </tr>\n",
       "  </thead>\n",
       "  <tbody>\n",
       "    <tr>\n",
       "      <th>3436</th>\n",
       "      <td>0</td>\n",
       "      <td>United_States</td>\n",
       "      <td>40</td>\n",
       "      <td>0</td>\n",
       "      <td>0</td>\n",
       "      <td>Male</td>\n",
       "      <td>White</td>\n",
       "      <td>Husband</td>\n",
       "      <td>Craft_repair</td>\n",
       "      <td>Married_civ_spouse</td>\n",
       "      <td>9</td>\n",
       "      <td>HS_grad</td>\n",
       "      <td>220585</td>\n",
       "      <td>Private</td>\n",
       "      <td>38</td>\n",
       "    </tr>\n",
       "    <tr>\n",
       "      <th>16332</th>\n",
       "      <td>0</td>\n",
       "      <td>United_States</td>\n",
       "      <td>60</td>\n",
       "      <td>0</td>\n",
       "      <td>0</td>\n",
       "      <td>Male</td>\n",
       "      <td>White</td>\n",
       "      <td>Not_in_family</td>\n",
       "      <td>other</td>\n",
       "      <td>Never_married</td>\n",
       "      <td>9</td>\n",
       "      <td>HS_grad</td>\n",
       "      <td>37778</td>\n",
       "      <td>other</td>\n",
       "      <td>38</td>\n",
       "    </tr>\n",
       "    <tr>\n",
       "      <th>39798</th>\n",
       "      <td>0</td>\n",
       "      <td>United_States</td>\n",
       "      <td>25</td>\n",
       "      <td>0</td>\n",
       "      <td>2407</td>\n",
       "      <td>Male</td>\n",
       "      <td>White</td>\n",
       "      <td>Husband</td>\n",
       "      <td>Craft_repair</td>\n",
       "      <td>Married_civ_spouse</td>\n",
       "      <td>6</td>\n",
       "      <td>other</td>\n",
       "      <td>127539</td>\n",
       "      <td>other</td>\n",
       "      <td>58</td>\n",
       "    </tr>\n",
       "    <tr>\n",
       "      <th>12405</th>\n",
       "      <td>0</td>\n",
       "      <td>United_States</td>\n",
       "      <td>8</td>\n",
       "      <td>0</td>\n",
       "      <td>0</td>\n",
       "      <td>Female</td>\n",
       "      <td>White</td>\n",
       "      <td>Own_child</td>\n",
       "      <td>Sales</td>\n",
       "      <td>Never_married</td>\n",
       "      <td>7</td>\n",
       "      <td>other</td>\n",
       "      <td>216137</td>\n",
       "      <td>Private</td>\n",
       "      <td>17</td>\n",
       "    </tr>\n",
       "    <tr>\n",
       "      <th>7584</th>\n",
       "      <td>0</td>\n",
       "      <td>United_States</td>\n",
       "      <td>20</td>\n",
       "      <td>0</td>\n",
       "      <td>0</td>\n",
       "      <td>Male</td>\n",
       "      <td>other</td>\n",
       "      <td>Own_child</td>\n",
       "      <td>Adm_clerical</td>\n",
       "      <td>Never_married</td>\n",
       "      <td>7</td>\n",
       "      <td>other</td>\n",
       "      <td>115630</td>\n",
       "      <td>Private</td>\n",
       "      <td>18</td>\n",
       "    </tr>\n",
       "  </tbody>\n",
       "</table>\n",
       "</div>"
      ],
      "text/plain": [
       "       salary native_country  hours_per_week  capital_loss  capital_gain  \\\n",
       "3436        0  United_States              40             0             0   \n",
       "16332       0  United_States              60             0             0   \n",
       "39798       0  United_States              25             0          2407   \n",
       "12405       0  United_States               8             0             0   \n",
       "7584        0  United_States              20             0             0   \n",
       "\n",
       "          sex   race   relationship    occupation      marital_status  \\\n",
       "3436     Male  White        Husband  Craft_repair  Married_civ_spouse   \n",
       "16332    Male  White  Not_in_family         other       Never_married   \n",
       "39798    Male  White        Husband  Craft_repair  Married_civ_spouse   \n",
       "12405  Female  White      Own_child         Sales       Never_married   \n",
       "7584     Male  other      Own_child  Adm_clerical       Never_married   \n",
       "\n",
       "       education_num education  fnlwgt workclass  age  \n",
       "3436               9   HS_grad  220585   Private   38  \n",
       "16332              9   HS_grad   37778     other   38  \n",
       "39798              6     other  127539     other   58  \n",
       "12405              7     other  216137   Private   17  \n",
       "7584               7     other  115630   Private   18  "
      ]
     },
     "execution_count": 14,
     "metadata": {},
     "output_type": "execute_result"
    }
   ],
   "source": [
    "X_test.head()"
   ]
  },
  {
   "cell_type": "code",
   "execution_count": 15,
   "id": "9f9afe9b",
   "metadata": {},
   "outputs": [
    {
     "data": {
      "text/plain": [
       "3436     0\n",
       "16332    0\n",
       "39798    0\n",
       "12405    0\n",
       "7584     0\n",
       "Name: salary, dtype: int64"
      ]
     },
     "execution_count": 15,
     "metadata": {},
     "output_type": "execute_result"
    }
   ],
   "source": [
    "y_test.head()"
   ]
  },
  {
   "cell_type": "code",
   "execution_count": 16,
   "id": "3224c44f",
   "metadata": {},
   "outputs": [
    {
     "data": {
      "text/plain": [
       "((36609, 15), (36609,))"
      ]
     },
     "execution_count": 16,
     "metadata": {},
     "output_type": "execute_result"
    }
   ],
   "source": [
    "X_train.shape,y_train.shape"
   ]
  },
  {
   "cell_type": "code",
   "execution_count": 17,
   "id": "7189080d",
   "metadata": {},
   "outputs": [
    {
     "data": {
      "text/plain": [
       "((12204, 15), (12204,))"
      ]
     },
     "execution_count": 17,
     "metadata": {},
     "output_type": "execute_result"
    }
   ],
   "source": [
    "X_test.shape,y_test.shape"
   ]
  },
  {
   "cell_type": "code",
   "execution_count": 18,
   "id": "1b503eb3",
   "metadata": {},
   "outputs": [
    {
     "data": {
      "text/plain": [
       "Index(['age', 'workclass', 'fnlwgt', 'education', 'education_num',\n",
       "       'marital_status', 'occupation', 'relationship', 'race', 'sex',\n",
       "       'capital_gain', 'capital_loss', 'hours_per_week', 'native_country',\n",
       "       'salary'],\n",
       "      dtype='object')"
      ]
     },
     "execution_count": 18,
     "metadata": {},
     "output_type": "execute_result"
    }
   ],
   "source": [
    "data_mongodb.columns"
   ]
  },
  {
   "cell_type": "markdown",
   "id": "9f50a1a0",
   "metadata": {},
   "source": [
    "# <span style='color:red'> 3.3 Feature Encoding </span>"
   ]
  },
  {
   "cell_type": "code",
   "execution_count": 19,
   "id": "ab255bd4",
   "metadata": {},
   "outputs": [],
   "source": [
    "column_trans=make_column_transformer((OneHotEncoder(), ['workclass','education', 'marital_status', 'occupation', 'relationship', 'race', 'sex', 'native_country']),\n",
    "                                    remainder='passthrough')"
   ]
  },
  {
   "cell_type": "code",
   "execution_count": 20,
   "id": "e98402ef",
   "metadata": {},
   "outputs": [],
   "source": [
    "X_train=column_trans.fit_transform(X_train)"
   ]
  },
  {
   "cell_type": "code",
   "execution_count": 21,
   "id": "1e9f7905",
   "metadata": {},
   "outputs": [],
   "source": [
    "X_test=column_trans.transform(X_test)"
   ]
  },
  {
   "cell_type": "markdown",
   "id": "6c1acb02",
   "metadata": {},
   "source": [
    "# <span style='color:red'> 3.4 Feature Scaling </span>"
   ]
  },
  {
   "cell_type": "code",
   "execution_count": 22,
   "id": "b4711760",
   "metadata": {},
   "outputs": [
    {
     "data": {
      "text/plain": [
       "StandardScaler()"
      ]
     },
     "execution_count": 22,
     "metadata": {},
     "output_type": "execute_result"
    }
   ],
   "source": [
    "scaler=StandardScaler()\n",
    "scaler"
   ]
  },
  {
   "cell_type": "code",
   "execution_count": 23,
   "id": "32a44483",
   "metadata": {},
   "outputs": [
    {
     "data": {
      "text/plain": [
       "array([[ 0.57666687, -0.57666687,  2.24301956, ...,  1.13261956,\n",
       "        -0.31433281, -0.41221964],\n",
       "       [ 0.57666687, -0.57666687, -0.44582759, ...,  1.91180699,\n",
       "         0.98128957, -0.70482448],\n",
       "       [ 0.57666687, -0.57666687, -0.44582759, ..., -0.03616158,\n",
       "        -0.40844528,  2.00177035],\n",
       "       ...,\n",
       "       [ 0.57666687, -0.57666687, -0.44582759, ..., -0.4257553 ,\n",
       "         0.02260105, -0.41221964],\n",
       "       [-1.73410343,  1.73410343, -0.44582759, ..., -0.03616158,\n",
       "        -0.60295452,  0.46559491],\n",
       "       [ 0.57666687, -0.57666687,  2.24301956, ...,  1.13261956,\n",
       "         2.39005735, -1.07058054]])"
      ]
     },
     "execution_count": 23,
     "metadata": {},
     "output_type": "execute_result"
    }
   ],
   "source": [
    "X_train=scaler.fit_transform(X_train)\n",
    "X_train"
   ]
  },
  {
   "cell_type": "code",
   "execution_count": 24,
   "id": "0e1a66ad",
   "metadata": {},
   "outputs": [
    {
     "data": {
      "text/plain": [
       "array([[ 0.57666687, -0.57666687, -0.44582759, ..., -0.4257553 ,\n",
       "         0.29420877, -0.04646358],\n",
       "       [-1.73410343,  1.73410343, -0.44582759, ..., -0.4257553 ,\n",
       "        -1.43853569, -0.04646358],\n",
       "       [-1.73410343,  1.73410343, -0.44582759, ..., -1.59453644,\n",
       "        -0.58773197,  1.41656066],\n",
       "       ...,\n",
       "       [ 0.57666687, -0.57666687, -0.44582759, ..., -0.03616158,\n",
       "         0.34653982, -0.04646358],\n",
       "       [-1.73410343,  1.73410343, -0.44582759, ..., -2.37372387,\n",
       "        -0.07176735,  2.80643369],\n",
       "       [ 0.57666687, -0.57666687, -0.44582759, ..., -0.4257553 ,\n",
       "        -0.9322771 , -1.21688297]])"
      ]
     },
     "execution_count": 24,
     "metadata": {},
     "output_type": "execute_result"
    }
   ],
   "source": [
    "X_test=scaler.transform(X_test)\n",
    "X_test"
   ]
  },
  {
   "cell_type": "code",
   "execution_count": 25,
   "id": "d9b81dbb",
   "metadata": {},
   "outputs": [
    {
     "data": {
      "text/html": [
       "<div>\n",
       "<style scoped>\n",
       "    .dataframe tbody tr th:only-of-type {\n",
       "        vertical-align: middle;\n",
       "    }\n",
       "\n",
       "    .dataframe tbody tr th {\n",
       "        vertical-align: top;\n",
       "    }\n",
       "\n",
       "    .dataframe thead th {\n",
       "        text-align: right;\n",
       "    }\n",
       "</style>\n",
       "<table border=\"1\" class=\"dataframe\">\n",
       "  <thead>\n",
       "    <tr style=\"text-align: right;\">\n",
       "      <th></th>\n",
       "      <th>0</th>\n",
       "      <th>1</th>\n",
       "      <th>2</th>\n",
       "      <th>3</th>\n",
       "      <th>4</th>\n",
       "      <th>5</th>\n",
       "      <th>6</th>\n",
       "      <th>7</th>\n",
       "      <th>8</th>\n",
       "      <th>9</th>\n",
       "      <th>...</th>\n",
       "      <th>25</th>\n",
       "      <th>26</th>\n",
       "      <th>27</th>\n",
       "      <th>28</th>\n",
       "      <th>29</th>\n",
       "      <th>30</th>\n",
       "      <th>31</th>\n",
       "      <th>32</th>\n",
       "      <th>33</th>\n",
       "      <th>34</th>\n",
       "    </tr>\n",
       "  </thead>\n",
       "  <tbody>\n",
       "    <tr>\n",
       "      <th>0</th>\n",
       "      <td>0.576667</td>\n",
       "      <td>-0.576667</td>\n",
       "      <td>2.243020</td>\n",
       "      <td>-0.690827</td>\n",
       "      <td>-0.534593</td>\n",
       "      <td>-0.637338</td>\n",
       "      <td>-0.396985</td>\n",
       "      <td>1.089877</td>\n",
       "      <td>-0.702115</td>\n",
       "      <td>-0.288004</td>\n",
       "      <td>...</td>\n",
       "      <td>-1.417087</td>\n",
       "      <td>0.303837</td>\n",
       "      <td>-0.303837</td>\n",
       "      <td>-0.562366</td>\n",
       "      <td>-0.031880</td>\n",
       "      <td>-0.217955</td>\n",
       "      <td>-0.144306</td>\n",
       "      <td>1.132620</td>\n",
       "      <td>-0.314333</td>\n",
       "      <td>-0.412220</td>\n",
       "    </tr>\n",
       "    <tr>\n",
       "      <th>1</th>\n",
       "      <td>0.576667</td>\n",
       "      <td>-0.576667</td>\n",
       "      <td>-0.445828</td>\n",
       "      <td>-0.690827</td>\n",
       "      <td>-0.534593</td>\n",
       "      <td>1.569026</td>\n",
       "      <td>-0.396985</td>\n",
       "      <td>1.089877</td>\n",
       "      <td>-0.702115</td>\n",
       "      <td>-0.288004</td>\n",
       "      <td>...</td>\n",
       "      <td>0.705673</td>\n",
       "      <td>0.303837</td>\n",
       "      <td>-0.303837</td>\n",
       "      <td>1.778203</td>\n",
       "      <td>0.615701</td>\n",
       "      <td>-0.217955</td>\n",
       "      <td>0.846865</td>\n",
       "      <td>1.911807</td>\n",
       "      <td>0.981290</td>\n",
       "      <td>-0.704824</td>\n",
       "    </tr>\n",
       "    <tr>\n",
       "      <th>2</th>\n",
       "      <td>0.576667</td>\n",
       "      <td>-0.576667</td>\n",
       "      <td>-0.445828</td>\n",
       "      <td>-0.690827</td>\n",
       "      <td>1.870582</td>\n",
       "      <td>-0.637338</td>\n",
       "      <td>-0.396985</td>\n",
       "      <td>1.089877</td>\n",
       "      <td>-0.702115</td>\n",
       "      <td>-0.288004</td>\n",
       "      <td>...</td>\n",
       "      <td>0.705673</td>\n",
       "      <td>0.303837</td>\n",
       "      <td>-0.303837</td>\n",
       "      <td>1.778203</td>\n",
       "      <td>-0.031880</td>\n",
       "      <td>-0.217955</td>\n",
       "      <td>0.610277</td>\n",
       "      <td>-0.036162</td>\n",
       "      <td>-0.408445</td>\n",
       "      <td>2.001770</td>\n",
       "    </tr>\n",
       "    <tr>\n",
       "      <th>3</th>\n",
       "      <td>0.576667</td>\n",
       "      <td>-0.576667</td>\n",
       "      <td>-0.445828</td>\n",
       "      <td>1.447541</td>\n",
       "      <td>-0.534593</td>\n",
       "      <td>-0.637338</td>\n",
       "      <td>-0.396985</td>\n",
       "      <td>-0.917535</td>\n",
       "      <td>1.424268</td>\n",
       "      <td>-0.288004</td>\n",
       "      <td>...</td>\n",
       "      <td>0.705673</td>\n",
       "      <td>0.303837</td>\n",
       "      <td>-0.303837</td>\n",
       "      <td>-0.562366</td>\n",
       "      <td>0.777597</td>\n",
       "      <td>-0.217955</td>\n",
       "      <td>-0.144306</td>\n",
       "      <td>-0.425755</td>\n",
       "      <td>0.670317</td>\n",
       "      <td>-1.436337</td>\n",
       "    </tr>\n",
       "    <tr>\n",
       "      <th>4</th>\n",
       "      <td>0.576667</td>\n",
       "      <td>-0.576667</td>\n",
       "      <td>-0.445828</td>\n",
       "      <td>1.447541</td>\n",
       "      <td>-0.534593</td>\n",
       "      <td>-0.637338</td>\n",
       "      <td>2.518989</td>\n",
       "      <td>-0.917535</td>\n",
       "      <td>-0.702115</td>\n",
       "      <td>-0.288004</td>\n",
       "      <td>...</td>\n",
       "      <td>0.705673</td>\n",
       "      <td>0.303837</td>\n",
       "      <td>-0.303837</td>\n",
       "      <td>-0.562366</td>\n",
       "      <td>0.777597</td>\n",
       "      <td>-0.217955</td>\n",
       "      <td>-0.144306</td>\n",
       "      <td>-0.425755</td>\n",
       "      <td>-0.972561</td>\n",
       "      <td>-1.143732</td>\n",
       "    </tr>\n",
       "  </tbody>\n",
       "</table>\n",
       "<p>5 rows × 35 columns</p>\n",
       "</div>"
      ],
      "text/plain": [
       "         0         1         2         3         4         5         6   \\\n",
       "0  0.576667 -0.576667  2.243020 -0.690827 -0.534593 -0.637338 -0.396985   \n",
       "1  0.576667 -0.576667 -0.445828 -0.690827 -0.534593  1.569026 -0.396985   \n",
       "2  0.576667 -0.576667 -0.445828 -0.690827  1.870582 -0.637338 -0.396985   \n",
       "3  0.576667 -0.576667 -0.445828  1.447541 -0.534593 -0.637338 -0.396985   \n",
       "4  0.576667 -0.576667 -0.445828  1.447541 -0.534593 -0.637338  2.518989   \n",
       "\n",
       "         7         8         9   ...        25        26        27        28  \\\n",
       "0  1.089877 -0.702115 -0.288004  ... -1.417087  0.303837 -0.303837 -0.562366   \n",
       "1  1.089877 -0.702115 -0.288004  ...  0.705673  0.303837 -0.303837  1.778203   \n",
       "2  1.089877 -0.702115 -0.288004  ...  0.705673  0.303837 -0.303837  1.778203   \n",
       "3 -0.917535  1.424268 -0.288004  ...  0.705673  0.303837 -0.303837 -0.562366   \n",
       "4 -0.917535 -0.702115 -0.288004  ...  0.705673  0.303837 -0.303837 -0.562366   \n",
       "\n",
       "         29        30        31        32        33        34  \n",
       "0 -0.031880 -0.217955 -0.144306  1.132620 -0.314333 -0.412220  \n",
       "1  0.615701 -0.217955  0.846865  1.911807  0.981290 -0.704824  \n",
       "2 -0.031880 -0.217955  0.610277 -0.036162 -0.408445  2.001770  \n",
       "3  0.777597 -0.217955 -0.144306 -0.425755  0.670317 -1.436337  \n",
       "4  0.777597 -0.217955 -0.144306 -0.425755 -0.972561 -1.143732  \n",
       "\n",
       "[5 rows x 35 columns]"
      ]
     },
     "execution_count": 25,
     "metadata": {},
     "output_type": "execute_result"
    }
   ],
   "source": [
    "X_train_scaled=pd.DataFrame(X_train)\n",
    "X_train_scaled.head()"
   ]
  },
  {
   "cell_type": "code",
   "execution_count": 26,
   "id": "efb11e47",
   "metadata": {},
   "outputs": [
    {
     "data": {
      "text/html": [
       "<div>\n",
       "<style scoped>\n",
       "    .dataframe tbody tr th:only-of-type {\n",
       "        vertical-align: middle;\n",
       "    }\n",
       "\n",
       "    .dataframe tbody tr th {\n",
       "        vertical-align: top;\n",
       "    }\n",
       "\n",
       "    .dataframe thead th {\n",
       "        text-align: right;\n",
       "    }\n",
       "</style>\n",
       "<table border=\"1\" class=\"dataframe\">\n",
       "  <thead>\n",
       "    <tr style=\"text-align: right;\">\n",
       "      <th></th>\n",
       "      <th>0</th>\n",
       "      <th>1</th>\n",
       "      <th>2</th>\n",
       "      <th>3</th>\n",
       "      <th>4</th>\n",
       "      <th>5</th>\n",
       "      <th>6</th>\n",
       "      <th>7</th>\n",
       "      <th>8</th>\n",
       "      <th>9</th>\n",
       "      <th>...</th>\n",
       "      <th>25</th>\n",
       "      <th>26</th>\n",
       "      <th>27</th>\n",
       "      <th>28</th>\n",
       "      <th>29</th>\n",
       "      <th>30</th>\n",
       "      <th>31</th>\n",
       "      <th>32</th>\n",
       "      <th>33</th>\n",
       "      <th>34</th>\n",
       "    </tr>\n",
       "  </thead>\n",
       "  <tbody>\n",
       "    <tr>\n",
       "      <th>0</th>\n",
       "      <td>0.576667</td>\n",
       "      <td>-0.576667</td>\n",
       "      <td>-0.445828</td>\n",
       "      <td>1.447541</td>\n",
       "      <td>-0.534593</td>\n",
       "      <td>-0.637338</td>\n",
       "      <td>-0.396985</td>\n",
       "      <td>1.089877</td>\n",
       "      <td>-0.702115</td>\n",
       "      <td>-0.288004</td>\n",
       "      <td>...</td>\n",
       "      <td>0.705673</td>\n",
       "      <td>0.303837</td>\n",
       "      <td>-0.303837</td>\n",
       "      <td>-0.562366</td>\n",
       "      <td>-0.031880</td>\n",
       "      <td>-0.217955</td>\n",
       "      <td>-0.144306</td>\n",
       "      <td>-0.425755</td>\n",
       "      <td>0.294209</td>\n",
       "      <td>-0.046464</td>\n",
       "    </tr>\n",
       "    <tr>\n",
       "      <th>1</th>\n",
       "      <td>-1.734103</td>\n",
       "      <td>1.734103</td>\n",
       "      <td>-0.445828</td>\n",
       "      <td>1.447541</td>\n",
       "      <td>-0.534593</td>\n",
       "      <td>-0.637338</td>\n",
       "      <td>-0.396985</td>\n",
       "      <td>-0.917535</td>\n",
       "      <td>1.424268</td>\n",
       "      <td>-0.288004</td>\n",
       "      <td>...</td>\n",
       "      <td>0.705673</td>\n",
       "      <td>0.303837</td>\n",
       "      <td>-0.303837</td>\n",
       "      <td>-0.562366</td>\n",
       "      <td>1.587074</td>\n",
       "      <td>-0.217955</td>\n",
       "      <td>-0.144306</td>\n",
       "      <td>-0.425755</td>\n",
       "      <td>-1.438536</td>\n",
       "      <td>-0.046464</td>\n",
       "    </tr>\n",
       "    <tr>\n",
       "      <th>2</th>\n",
       "      <td>-1.734103</td>\n",
       "      <td>1.734103</td>\n",
       "      <td>-0.445828</td>\n",
       "      <td>-0.690827</td>\n",
       "      <td>-0.534593</td>\n",
       "      <td>1.569026</td>\n",
       "      <td>-0.396985</td>\n",
       "      <td>1.089877</td>\n",
       "      <td>-0.702115</td>\n",
       "      <td>-0.288004</td>\n",
       "      <td>...</td>\n",
       "      <td>0.705673</td>\n",
       "      <td>0.303837</td>\n",
       "      <td>-0.303837</td>\n",
       "      <td>-0.562366</td>\n",
       "      <td>-1.246096</td>\n",
       "      <td>-0.217955</td>\n",
       "      <td>0.182598</td>\n",
       "      <td>-1.594536</td>\n",
       "      <td>-0.587732</td>\n",
       "      <td>1.416561</td>\n",
       "    </tr>\n",
       "    <tr>\n",
       "      <th>3</th>\n",
       "      <td>0.576667</td>\n",
       "      <td>-0.576667</td>\n",
       "      <td>-0.445828</td>\n",
       "      <td>-0.690827</td>\n",
       "      <td>-0.534593</td>\n",
       "      <td>1.569026</td>\n",
       "      <td>-0.396985</td>\n",
       "      <td>-0.917535</td>\n",
       "      <td>1.424268</td>\n",
       "      <td>-0.288004</td>\n",
       "      <td>...</td>\n",
       "      <td>-1.417087</td>\n",
       "      <td>0.303837</td>\n",
       "      <td>-0.303837</td>\n",
       "      <td>-0.562366</td>\n",
       "      <td>-2.622207</td>\n",
       "      <td>-0.217955</td>\n",
       "      <td>-0.144306</td>\n",
       "      <td>-1.204943</td>\n",
       "      <td>0.252048</td>\n",
       "      <td>-1.582639</td>\n",
       "    </tr>\n",
       "    <tr>\n",
       "      <th>4</th>\n",
       "      <td>0.576667</td>\n",
       "      <td>-0.576667</td>\n",
       "      <td>-0.445828</td>\n",
       "      <td>-0.690827</td>\n",
       "      <td>-0.534593</td>\n",
       "      <td>1.569026</td>\n",
       "      <td>-0.396985</td>\n",
       "      <td>-0.917535</td>\n",
       "      <td>1.424268</td>\n",
       "      <td>-0.288004</td>\n",
       "      <td>...</td>\n",
       "      <td>0.705673</td>\n",
       "      <td>0.303837</td>\n",
       "      <td>-0.303837</td>\n",
       "      <td>-0.562366</td>\n",
       "      <td>-1.650835</td>\n",
       "      <td>-0.217955</td>\n",
       "      <td>-0.144306</td>\n",
       "      <td>-1.204943</td>\n",
       "      <td>-0.700612</td>\n",
       "      <td>-1.509488</td>\n",
       "    </tr>\n",
       "  </tbody>\n",
       "</table>\n",
       "<p>5 rows × 35 columns</p>\n",
       "</div>"
      ],
      "text/plain": [
       "         0         1         2         3         4         5         6   \\\n",
       "0  0.576667 -0.576667 -0.445828  1.447541 -0.534593 -0.637338 -0.396985   \n",
       "1 -1.734103  1.734103 -0.445828  1.447541 -0.534593 -0.637338 -0.396985   \n",
       "2 -1.734103  1.734103 -0.445828 -0.690827 -0.534593  1.569026 -0.396985   \n",
       "3  0.576667 -0.576667 -0.445828 -0.690827 -0.534593  1.569026 -0.396985   \n",
       "4  0.576667 -0.576667 -0.445828 -0.690827 -0.534593  1.569026 -0.396985   \n",
       "\n",
       "         7         8         9   ...        25        26        27        28  \\\n",
       "0  1.089877 -0.702115 -0.288004  ...  0.705673  0.303837 -0.303837 -0.562366   \n",
       "1 -0.917535  1.424268 -0.288004  ...  0.705673  0.303837 -0.303837 -0.562366   \n",
       "2  1.089877 -0.702115 -0.288004  ...  0.705673  0.303837 -0.303837 -0.562366   \n",
       "3 -0.917535  1.424268 -0.288004  ... -1.417087  0.303837 -0.303837 -0.562366   \n",
       "4 -0.917535  1.424268 -0.288004  ...  0.705673  0.303837 -0.303837 -0.562366   \n",
       "\n",
       "         29        30        31        32        33        34  \n",
       "0 -0.031880 -0.217955 -0.144306 -0.425755  0.294209 -0.046464  \n",
       "1  1.587074 -0.217955 -0.144306 -0.425755 -1.438536 -0.046464  \n",
       "2 -1.246096 -0.217955  0.182598 -1.594536 -0.587732  1.416561  \n",
       "3 -2.622207 -0.217955 -0.144306 -1.204943  0.252048 -1.582639  \n",
       "4 -1.650835 -0.217955 -0.144306 -1.204943 -0.700612 -1.509488  \n",
       "\n",
       "[5 rows x 35 columns]"
      ]
     },
     "execution_count": 26,
     "metadata": {},
     "output_type": "execute_result"
    }
   ],
   "source": [
    "X_test_scaled=pd.DataFrame(X_test)\n",
    "X_test_scaled.head()"
   ]
  },
  {
   "cell_type": "markdown",
   "id": "b0f9c8d1",
   "metadata": {},
   "source": [
    "# <span style='color:red'> 3.5 Logestic Regression Model </span>"
   ]
  },
  {
   "cell_type": "code",
   "execution_count": 27,
   "id": "9ea5e752",
   "metadata": {},
   "outputs": [
    {
     "data": {
      "text/plain": [
       "LogisticRegression()"
      ]
     },
     "execution_count": 27,
     "metadata": {},
     "output_type": "execute_result"
    }
   ],
   "source": [
    "log_reg=LogisticRegression()\n",
    "log_reg"
   ]
  },
  {
   "cell_type": "code",
   "execution_count": 28,
   "id": "592113e4",
   "metadata": {},
   "outputs": [
    {
     "data": {
      "text/plain": [
       "LogisticRegression()"
      ]
     },
     "execution_count": 28,
     "metadata": {},
     "output_type": "execute_result"
    }
   ],
   "source": [
    "log_reg.fit(X_train,y_train)"
   ]
  },
  {
   "cell_type": "code",
   "execution_count": 29,
   "id": "59bedbf1",
   "metadata": {},
   "outputs": [
    {
     "data": {
      "text/plain": [
       "array([0, 0, 0, ..., 0, 0, 0], dtype=int64)"
      ]
     },
     "execution_count": 29,
     "metadata": {},
     "output_type": "execute_result"
    }
   ],
   "source": [
    "log_reg_predict=log_reg.predict(X_test)\n",
    "log_reg_predict"
   ]
  },
  {
   "cell_type": "code",
   "execution_count": 30,
   "id": "49ed5374",
   "metadata": {},
   "outputs": [
    {
     "data": {
      "text/plain": [
       "array([[9315,    0],\n",
       "       [   0, 2889]], dtype=int64)"
      ]
     },
     "execution_count": 30,
     "metadata": {},
     "output_type": "execute_result"
    }
   ],
   "source": [
    "conf_mat = confusion_matrix(y_test,log_reg_predict)\n",
    "conf_mat"
   ]
  },
  {
   "cell_type": "code",
   "execution_count": 31,
   "id": "8323a338",
   "metadata": {},
   "outputs": [],
   "source": [
    "truely_positive=conf_mat[0,0]\n",
    "falsely_positive=conf_mat[0,1]\n",
    "falsely_neagtive=conf_mat[1,0]\n",
    "truely_negative=conf_mat[1,1]"
   ]
  },
  {
   "cell_type": "code",
   "execution_count": 32,
   "id": "894d506c",
   "metadata": {},
   "outputs": [
    {
     "name": "stdout",
     "output_type": "stream",
     "text": [
      "              precision    recall  f1-score   support\n",
      "\n",
      "           0       1.00      1.00      1.00      9315\n",
      "           1       1.00      1.00      1.00      2889\n",
      "\n",
      "    accuracy                           1.00     12204\n",
      "   macro avg       1.00      1.00      1.00     12204\n",
      "weighted avg       1.00      1.00      1.00     12204\n",
      "\n"
     ]
    }
   ],
   "source": [
    "class_report=classification_report(y_test,log_reg_predict)\n",
    "print(class_report)"
   ]
  },
  {
   "cell_type": "markdown",
   "id": "40a71517",
   "metadata": {},
   "source": [
    "# <span style='color:red'> 3.6 Support Vector Classifier Model </span>"
   ]
  },
  {
   "cell_type": "code",
   "execution_count": 33,
   "id": "9d305c8d",
   "metadata": {},
   "outputs": [],
   "source": [
    "X_train1,X_test1,y_train1,y_test1=train_test_split(X,y,test_size=0.25,random_state=19)"
   ]
  },
  {
   "cell_type": "code",
   "execution_count": 34,
   "id": "13621905",
   "metadata": {},
   "outputs": [],
   "source": [
    "column_trans_svc= make_column_transformer((OneHotEncoder(),['workclass','education', 'marital_status', 'occupation', 'relationship', 'race', 'sex', 'native_country']),\n",
    "                                    remainder='passthrough')"
   ]
  },
  {
   "cell_type": "code",
   "execution_count": 35,
   "id": "8928bd14",
   "metadata": {},
   "outputs": [],
   "source": [
    "X_train1=column_trans_svc.fit_transform(X_train1)"
   ]
  },
  {
   "cell_type": "code",
   "execution_count": 36,
   "id": "c48ccdf9",
   "metadata": {},
   "outputs": [],
   "source": [
    "X_test1=column_trans_svc.fit_transform(X_test1)"
   ]
  },
  {
   "cell_type": "code",
   "execution_count": 37,
   "id": "db7bf2b8",
   "metadata": {},
   "outputs": [
    {
     "data": {
      "text/plain": [
       "StandardScaler()"
      ]
     },
     "execution_count": 37,
     "metadata": {},
     "output_type": "execute_result"
    }
   ],
   "source": [
    "scaler_svc=StandardScaler()\n",
    "scaler_svc"
   ]
  },
  {
   "cell_type": "code",
   "execution_count": 38,
   "id": "f67af161",
   "metadata": {},
   "outputs": [],
   "source": [
    "X_train1=scaler_svc.fit_transform(X_train1)"
   ]
  },
  {
   "cell_type": "code",
   "execution_count": 39,
   "id": "213db9b8",
   "metadata": {},
   "outputs": [],
   "source": [
    "X_test1=scaler_svc.fit_transform(X_test1)"
   ]
  },
  {
   "cell_type": "code",
   "execution_count": 40,
   "id": "17dc2f7c",
   "metadata": {},
   "outputs": [
    {
     "data": {
      "text/plain": [
       "SVC()"
      ]
     },
     "execution_count": 40,
     "metadata": {},
     "output_type": "execute_result"
    }
   ],
   "source": [
    "svc=SVC()\n",
    "svc"
   ]
  },
  {
   "cell_type": "code",
   "execution_count": 41,
   "id": "bdb523a5",
   "metadata": {},
   "outputs": [
    {
     "data": {
      "text/plain": [
       "SVC()"
      ]
     },
     "execution_count": 41,
     "metadata": {},
     "output_type": "execute_result"
    }
   ],
   "source": [
    "svc.fit(X_train1,y_train1)"
   ]
  },
  {
   "cell_type": "code",
   "execution_count": 42,
   "id": "2ffca36d",
   "metadata": {},
   "outputs": [
    {
     "data": {
      "text/plain": [
       "array([0, 0, 0, ..., 0, 0, 0], dtype=int64)"
      ]
     },
     "execution_count": 42,
     "metadata": {},
     "output_type": "execute_result"
    }
   ],
   "source": [
    "svc_pred=svc.predict(X_test1)\n",
    "svc_pred"
   ]
  },
  {
   "cell_type": "code",
   "execution_count": 43,
   "id": "96bb2ed3",
   "metadata": {},
   "outputs": [
    {
     "data": {
      "text/plain": [
       "array([[9315,    0],\n",
       "       [   0, 2889]], dtype=int64)"
      ]
     },
     "execution_count": 43,
     "metadata": {},
     "output_type": "execute_result"
    }
   ],
   "source": [
    "conf_mat=confusion_matrix(y_test,svc_pred)\n",
    "conf_mat"
   ]
  },
  {
   "cell_type": "code",
   "execution_count": 44,
   "id": "7aea7b02",
   "metadata": {},
   "outputs": [],
   "source": [
    "truly_positive=conf_mat[0][0]\n",
    "falsely_positive=conf_mat[0][1]\n",
    "falsely_negative=conf_mat[1][0]\n",
    "truly_negative=conf_mat[1][1]"
   ]
  },
  {
   "cell_type": "code",
   "execution_count": 45,
   "id": "0ba15843",
   "metadata": {},
   "outputs": [
    {
     "name": "stdout",
     "output_type": "stream",
     "text": [
      "              precision    recall  f1-score   support\n",
      "\n",
      "           0       1.00      1.00      1.00      9315\n",
      "           1       1.00      1.00      1.00      2889\n",
      "\n",
      "    accuracy                           1.00     12204\n",
      "   macro avg       1.00      1.00      1.00     12204\n",
      "weighted avg       1.00      1.00      1.00     12204\n",
      "\n"
     ]
    }
   ],
   "source": [
    "classification_rep_svc=classification_report(y_test1, svc_pred)\n",
    "print(classification_rep_svc)"
   ]
  },
  {
   "cell_type": "markdown",
   "id": "d13b16b6",
   "metadata": {},
   "source": [
    "# <span style='color:red'> 3.7 Hyper-Parameter Tuning Logistic Regression Model </span>"
   ]
  },
  {
   "cell_type": "code",
   "execution_count": 46,
   "id": "7c53b282",
   "metadata": {},
   "outputs": [],
   "source": [
    "param_grid =[ {'penalty':['l1','l2','elasticnet','none'],\n",
    "                'C':np.logspace(-4,4,5),\n",
    "              'solver':['lbfgs','newton-cg','liblinear','sag','saga'],\n",
    "              'max_iter':[100,500]}]"
   ]
  },
  {
   "cell_type": "code",
   "execution_count": 47,
   "id": "e3fcc483",
   "metadata": {},
   "outputs": [
    {
     "data": {
      "text/plain": [
       "LogisticRegression()"
      ]
     },
     "execution_count": 47,
     "metadata": {},
     "output_type": "execute_result"
    }
   ],
   "source": [
    "log_reg_hyp=LogisticRegression()\n",
    "log_reg_hyp"
   ]
  },
  {
   "cell_type": "code",
   "execution_count": 48,
   "id": "621129d1",
   "metadata": {},
   "outputs": [],
   "source": [
    "hyp_log_reg=GridSearchCV(log_reg_hyp, param_grid=param_grid)"
   ]
  },
  {
   "cell_type": "code",
   "execution_count": 49,
   "id": "6b6d0e75",
   "metadata": {},
   "outputs": [
    {
     "data": {
      "text/plain": [
       "GridSearchCV(estimator=LogisticRegression(),\n",
       "             param_grid=[{'C': array([1.e-04, 1.e-02, 1.e+00, 1.e+02, 1.e+04]),\n",
       "                          'max_iter': [100, 500],\n",
       "                          'penalty': ['l1', 'l2', 'elasticnet', 'none'],\n",
       "                          'solver': ['lbfgs', 'newton-cg', 'liblinear', 'sag',\n",
       "                                     'saga']}])"
      ]
     },
     "execution_count": 49,
     "metadata": {},
     "output_type": "execute_result"
    }
   ],
   "source": [
    "best_hyp_log_reg=hyp_log_reg.fit(X_train,y_train)\n",
    "best_hyp_log_reg"
   ]
  },
  {
   "cell_type": "code",
   "execution_count": 50,
   "id": "4a55acec",
   "metadata": {},
   "outputs": [
    {
     "name": "stdout",
     "output_type": "stream",
     "text": [
      "best parameter are LogisticRegression(C=0.0001, penalty='l1', solver='liblinear') for optimal accuracy\n"
     ]
    }
   ],
   "source": [
    "### getting best parameters for Logistic Regression model after gridsearchCV\n",
    "print('best parameter are {} for optimal accuracy'.format(best_hyp_log_reg.best_estimator_))"
   ]
  },
  {
   "cell_type": "code",
   "execution_count": 51,
   "id": "e906ed8d",
   "metadata": {},
   "outputs": [
    {
     "name": "stdout",
     "output_type": "stream",
     "text": [
      "best accuracy is 1.0\n"
     ]
    }
   ],
   "source": [
    "### getting best accuracy for Logistic Regression model after gridsearchCV\n",
    "print('best accuracy is {}'.format(best_hyp_log_reg.score(X_test,y_test)))"
   ]
  },
  {
   "cell_type": "markdown",
   "id": "09ffb94f",
   "metadata": {},
   "source": [
    "# <span style='color:red'> 3.8 Hyper-Parameter Tuning Support Vector Classifier Model </span>"
   ]
  },
  {
   "cell_type": "code",
   "execution_count": 52,
   "id": "67bb7e74",
   "metadata": {},
   "outputs": [
    {
     "data": {
      "text/plain": [
       "SVC()"
      ]
     },
     "execution_count": 52,
     "metadata": {},
     "output_type": "execute_result"
    }
   ],
   "source": [
    "svc_hyp=SVC()\n",
    "svc_hyp"
   ]
  },
  {
   "cell_type": "code",
   "execution_count": 53,
   "id": "f2b8d457",
   "metadata": {},
   "outputs": [],
   "source": [
    "#### using gridsearchcv to increase model efficiency by combining above parameters\n",
    "\n",
    "param_grid = {'C':[1,2,3],'kernel':['rbf']}\n",
    "\n",
    "hyp_svc=GridSearchCV(svc_hyp,param_grid= param_grid)\n"
   ]
  },
  {
   "cell_type": "code",
   "execution_count": 54,
   "id": "9f9cf282",
   "metadata": {},
   "outputs": [
    {
     "data": {
      "text/plain": [
       "GridSearchCV(estimator=SVC(), param_grid={'C': [1, 2, 3], 'kernel': ['rbf']})"
      ]
     },
     "execution_count": 54,
     "metadata": {},
     "output_type": "execute_result"
    }
   ],
   "source": [
    "best_hyp_svc= hyp_svc.fit(X_train1,y_train1)\n",
    "best_hyp_svc"
   ]
  },
  {
   "cell_type": "code",
   "execution_count": 55,
   "id": "a83119d0",
   "metadata": {},
   "outputs": [
    {
     "name": "stdout",
     "output_type": "stream",
     "text": [
      "best parameter optimal SVC(C=1)\n"
     ]
    }
   ],
   "source": [
    "### getting best parameters for Logistic Regression model after gridsearchCV\n",
    "print('best parameter optimal {}'.format(best_hyp_svc.best_estimator_))"
   ]
  },
  {
   "cell_type": "code",
   "execution_count": 56,
   "id": "c8a7e015",
   "metadata": {},
   "outputs": [
    {
     "name": "stdout",
     "output_type": "stream",
     "text": [
      "best accuracy 1.0\n"
     ]
    }
   ],
   "source": [
    "### getting best accuracy for Logistic Regression model after gridsearchCV\n",
    "print('best accuracy {}'.format(best_hyp_svc.score(X_test1,y_test1)))"
   ]
  },
  {
   "cell_type": "code",
   "execution_count": null,
   "id": "8acf8316",
   "metadata": {},
   "outputs": [],
   "source": []
  }
 ],
 "metadata": {
  "kernelspec": {
   "display_name": "Python 3 (ipykernel)",
   "language": "python",
   "name": "python3"
  },
  "language_info": {
   "codemirror_mode": {
    "name": "ipython",
    "version": 3
   },
   "file_extension": ".py",
   "mimetype": "text/x-python",
   "name": "python",
   "nbconvert_exporter": "python",
   "pygments_lexer": "ipython3",
   "version": "3.9.12"
  }
 },
 "nbformat": 4,
 "nbformat_minor": 5
}
